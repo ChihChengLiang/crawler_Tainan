{
 "metadata": {
  "name": ""
 },
 "nbformat": 3,
 "nbformat_minor": 0,
 "worksheets": [
  {
   "cells": [
    {
     "cell_type": "heading",
     "level": 1,
     "metadata": {},
     "source": [
      "\u8cc7\u6599\u67b6\u69cb\u4ecb\u7d39"
     ]
    },
    {
     "cell_type": "raw",
     "metadata": {},
     "source": [
      "\n",
      "cateType-->level-->categoryID\n",
      "\n",
      "cateType=1 \u4e3b\u984c\u5206\u985e\u700f\u89bd\n",
      "cateType=2 \u65bd\u653f\u5206\u985e\u700f\u89bd\n"
     ]
    },
    {
     "cell_type": "heading",
     "level": 1,
     "metadata": {},
     "source": [
      "\u521d\u6b65\u5617\u8a66"
     ]
    },
    {
     "cell_type": "code",
     "collapsed": false,
     "input": [
      "import requests\n",
      "import pandas as pd\n",
      "import numpy as np"
     ],
     "language": "python",
     "metadata": {},
     "outputs": [],
     "prompt_number": 1
    },
    {
     "cell_type": "code",
     "collapsed": false,
     "input": [
      "systemId=\"C103AV005\"\n",
      "res=requests.get(\"http://210.69.40.134/OpenFront/report/report_detail.jsp?sysId=%s\" % systemId)\n",
      "tables=pd.read_html(res.text)"
     ],
     "language": "python",
     "metadata": {},
     "outputs": [],
     "prompt_number": 5
    },
    {
     "cell_type": "code",
     "collapsed": false,
     "input": [
      "data_table1= [one_table for one_table in tables ][2]\n",
      "data_table1"
     ],
     "language": "python",
     "metadata": {},
     "outputs": [
      {
       "html": [
        "<div style=\"max-height:1000px;max-width:1500px;overflow:auto;\">\n",
        "<table border=\"1\" class=\"dataframe\">\n",
        "  <thead>\n",
        "    <tr style=\"text-align: right;\">\n",
        "      <th></th>\n",
        "      <th>0</th>\n",
        "      <th>1</th>\n",
        "      <th>2</th>\n",
        "      <th>3</th>\n",
        "      <th>4</th>\n",
        "      <th>5</th>\n",
        "      <th>6</th>\n",
        "      <th>7</th>\n",
        "      <th>8</th>\n",
        "      <th>9</th>\n",
        "      <th>10</th>\n",
        "      <th>11</th>\n",
        "      <th>12</th>\n",
        "      <th>13</th>\n",
        "      <th>14</th>\n",
        "      <th>15</th>\n",
        "      <th>16</th>\n",
        "      <th>17</th>\n",
        "      <th>18</th>\n",
        "      <th>19</th>\n",
        "      <th></th>\n",
        "    </tr>\n",
        "  </thead>\n",
        "  <tbody>\n",
        "    <tr>\n",
        "      <th>0 </th>\n",
        "      <td>       \u9ede\u95b1\u6b21\u6578\uff1a</td>\n",
        "      <td>                                                73</td>\n",
        "      <td>  NaN</td>\n",
        "      <td>  NaN</td>\n",
        "      <td>   NaN</td>\n",
        "      <td> NaN</td>\n",
        "      <td> NaN</td>\n",
        "      <td> NaN</td>\n",
        "      <td>   NaN</td>\n",
        "      <td> NaN</td>\n",
        "      <td> NaN</td>\n",
        "      <td>   NaN</td>\n",
        "      <td>NaN</td>\n",
        "      <td> NaN</td>\n",
        "      <td>   NaN</td>\n",
        "      <td> NaN</td>\n",
        "      <td> NaN</td>\n",
        "      <td>   NaN</td>\n",
        "      <td>NaN</td>\n",
        "      <td> NaN</td>\n",
        "      <td>...</td>\n",
        "    </tr>\n",
        "    <tr>\n",
        "      <th>1 </th>\n",
        "      <td>      \u7cfb\u7d71\u8b58\u5225\u865f\uff1a</td>\n",
        "      <td>                                         C103AV005</td>\n",
        "      <td>  NaN</td>\n",
        "      <td>  NaN</td>\n",
        "      <td>   NaN</td>\n",
        "      <td> NaN</td>\n",
        "      <td> NaN</td>\n",
        "      <td> NaN</td>\n",
        "      <td>   NaN</td>\n",
        "      <td> NaN</td>\n",
        "      <td> NaN</td>\n",
        "      <td>   NaN</td>\n",
        "      <td>NaN</td>\n",
        "      <td> NaN</td>\n",
        "      <td>   NaN</td>\n",
        "      <td> NaN</td>\n",
        "      <td> NaN</td>\n",
        "      <td>   NaN</td>\n",
        "      <td>NaN</td>\n",
        "      <td> NaN</td>\n",
        "      <td>...</td>\n",
        "    </tr>\n",
        "    <tr>\n",
        "      <th>2 </th>\n",
        "      <td>      \u8a08\u756b\u540d\u7a31 \uff1a</td>\n",
        "      <td>                         \u53c3\u52a0\u7b2c93\u5c46TRB\u5e74\u6703\u66a8\u99ac\u91cc\u862d\u5dde\u8514\u54e5\u99ac\u5229\u90e1\u5de5\u7a0b\u53c3\u8a2a</td>\n",
        "      <td>  NaN</td>\n",
        "      <td>  NaN</td>\n",
        "      <td>   NaN</td>\n",
        "      <td> NaN</td>\n",
        "      <td> NaN</td>\n",
        "      <td> NaN</td>\n",
        "      <td>   NaN</td>\n",
        "      <td> NaN</td>\n",
        "      <td> NaN</td>\n",
        "      <td>   NaN</td>\n",
        "      <td>NaN</td>\n",
        "      <td> NaN</td>\n",
        "      <td>   NaN</td>\n",
        "      <td> NaN</td>\n",
        "      <td> NaN</td>\n",
        "      <td>   NaN</td>\n",
        "      <td>NaN</td>\n",
        "      <td> NaN</td>\n",
        "      <td>...</td>\n",
        "    </tr>\n",
        "    <tr>\n",
        "      <th>3 </th>\n",
        "      <td>       \u5831\u544a\u540d\u7a31\uff1a</td>\n",
        "      <td>                         \u53c3\u52a0\u7b2c93\u5c46TRB\u5e74\u6703\u66a8\u99ac\u91cc\u862d\u5dde\u8514\u54e5\u99ac\u5229\u90e1\u5de5\u7a0b\u53c3\u8a2a</td>\n",
        "      <td>  NaN</td>\n",
        "      <td>  NaN</td>\n",
        "      <td>   NaN</td>\n",
        "      <td> NaN</td>\n",
        "      <td> NaN</td>\n",
        "      <td> NaN</td>\n",
        "      <td>   NaN</td>\n",
        "      <td> NaN</td>\n",
        "      <td> NaN</td>\n",
        "      <td>   NaN</td>\n",
        "      <td>NaN</td>\n",
        "      <td> NaN</td>\n",
        "      <td>   NaN</td>\n",
        "      <td> NaN</td>\n",
        "      <td> NaN</td>\n",
        "      <td>   NaN</td>\n",
        "      <td>NaN</td>\n",
        "      <td> NaN</td>\n",
        "      <td>...</td>\n",
        "    </tr>\n",
        "    <tr>\n",
        "      <th>4 </th>\n",
        "      <td>     \u96fb\u5b50\u5168\u6587\u6a94 \uff1a</td>\n",
        "      <td>                                  C103AV005_01.doc</td>\n",
        "      <td>  NaN</td>\n",
        "      <td>  NaN</td>\n",
        "      <td>   NaN</td>\n",
        "      <td> NaN</td>\n",
        "      <td> NaN</td>\n",
        "      <td> NaN</td>\n",
        "      <td>   NaN</td>\n",
        "      <td> NaN</td>\n",
        "      <td> NaN</td>\n",
        "      <td>   NaN</td>\n",
        "      <td>NaN</td>\n",
        "      <td> NaN</td>\n",
        "      <td>   NaN</td>\n",
        "      <td> NaN</td>\n",
        "      <td> NaN</td>\n",
        "      <td>   NaN</td>\n",
        "      <td>NaN</td>\n",
        "      <td> NaN</td>\n",
        "      <td>...</td>\n",
        "    </tr>\n",
        "    <tr>\n",
        "      <th>5 </th>\n",
        "      <td>        \u9644\u4ef6\u6a94\uff1a</td>\n",
        "      <td>                                               NaN</td>\n",
        "      <td>  NaN</td>\n",
        "      <td>  NaN</td>\n",
        "      <td>   NaN</td>\n",
        "      <td> NaN</td>\n",
        "      <td> NaN</td>\n",
        "      <td> NaN</td>\n",
        "      <td>   NaN</td>\n",
        "      <td> NaN</td>\n",
        "      <td> NaN</td>\n",
        "      <td>   NaN</td>\n",
        "      <td>NaN</td>\n",
        "      <td> NaN</td>\n",
        "      <td>   NaN</td>\n",
        "      <td> NaN</td>\n",
        "      <td> NaN</td>\n",
        "      <td>   NaN</td>\n",
        "      <td>NaN</td>\n",
        "      <td> NaN</td>\n",
        "      <td>...</td>\n",
        "    </tr>\n",
        "    <tr>\n",
        "      <th>6 </th>\n",
        "      <td>     \u8a08\u756b\u4e3b\u8fa6\u6a5f\u95dc\uff1a</td>\n",
        "      <td>                                             \u81fa\u5357\u5e02\u653f\u5e9c</td>\n",
        "      <td>  NaN</td>\n",
        "      <td>  NaN</td>\n",
        "      <td>   NaN</td>\n",
        "      <td> NaN</td>\n",
        "      <td> NaN</td>\n",
        "      <td> NaN</td>\n",
        "      <td>   NaN</td>\n",
        "      <td> NaN</td>\n",
        "      <td> NaN</td>\n",
        "      <td>   NaN</td>\n",
        "      <td>NaN</td>\n",
        "      <td> NaN</td>\n",
        "      <td>   NaN</td>\n",
        "      <td> NaN</td>\n",
        "      <td> NaN</td>\n",
        "      <td>   NaN</td>\n",
        "      <td>NaN</td>\n",
        "      <td> NaN</td>\n",
        "      <td>...</td>\n",
        "    </tr>\n",
        "    <tr>\n",
        "      <th>7 </th>\n",
        "      <td> \u8a08\u5283\u4e3b\u8fa6\u6a5f\u95dc\u7db2\u7ad9\u9996\u9801\uff1a</td>\n",
        "      <td>                                               NaN</td>\n",
        "      <td>  NaN</td>\n",
        "      <td>  NaN</td>\n",
        "      <td>   NaN</td>\n",
        "      <td> NaN</td>\n",
        "      <td> NaN</td>\n",
        "      <td> NaN</td>\n",
        "      <td>   NaN</td>\n",
        "      <td> NaN</td>\n",
        "      <td> NaN</td>\n",
        "      <td>   NaN</td>\n",
        "      <td>NaN</td>\n",
        "      <td> NaN</td>\n",
        "      <td>   NaN</td>\n",
        "      <td> NaN</td>\n",
        "      <td> NaN</td>\n",
        "      <td>   NaN</td>\n",
        "      <td>NaN</td>\n",
        "      <td> NaN</td>\n",
        "      <td>...</td>\n",
        "    </tr>\n",
        "    <tr>\n",
        "      <th>8 </th>\n",
        "      <td>       \u51fa\u570b\u4eba\u54e1\uff1a</td>\n",
        "      <td> \u51fa\u570b\u4eba\u54e1\u540d\u55ae  \u59d3\u540d \u670d\u52d9\u6a5f\u95dc  \u670d\u52d9\u55ae\u4f4d  \u8077\u7a31  \u5b98\u8077\u7b49 \u5433\u5b97\u69ae  \u81fa\u5357\u5e02\u653f\u5e9c  \u5de5\u52d9\u5c40...</td>\n",
        "      <td>   \u59d3\u540d</td>\n",
        "      <td> \u670d\u52d9\u6a5f\u95dc</td>\n",
        "      <td>  \u670d\u52d9\u55ae\u4f4d</td>\n",
        "      <td>  \u8077\u7a31</td>\n",
        "      <td> \u5b98\u8077\u7b49</td>\n",
        "      <td> \u5433\u5b97\u69ae</td>\n",
        "      <td> \u81fa\u5357\u5e02\u653f\u5e9c</td>\n",
        "      <td> \u5de5\u52d9\u5c40</td>\n",
        "      <td>  \u5c40\u9577</td>\n",
        "      <td> \u7c21\u4efb(\u6d3e)</td>\n",
        "      <td>NaN</td>\n",
        "      <td> \u937e\u5357\u8c6a</td>\n",
        "      <td> \u81fa\u5357\u5e02\u653f\u5e9c</td>\n",
        "      <td> \u5de5\u52d9\u5c40</td>\n",
        "      <td>  \u79d1\u9577</td>\n",
        "      <td> \u85a6\u4efb(\u6d3e)</td>\n",
        "      <td>NaN</td>\n",
        "      <td> \u9ec3\u74ca\u5100</td>\n",
        "      <td>...</td>\n",
        "    </tr>\n",
        "    <tr>\n",
        "      <th>9 </th>\n",
        "      <td>          \u59d3\u540d</td>\n",
        "      <td>                                              \u670d\u52d9\u6a5f\u95dc</td>\n",
        "      <td> \u670d\u52d9\u55ae\u4f4d</td>\n",
        "      <td>   \u8077\u7a31</td>\n",
        "      <td>   \u5b98\u8077\u7b49</td>\n",
        "      <td> NaN</td>\n",
        "      <td> NaN</td>\n",
        "      <td> NaN</td>\n",
        "      <td>   NaN</td>\n",
        "      <td> NaN</td>\n",
        "      <td> NaN</td>\n",
        "      <td>   NaN</td>\n",
        "      <td>NaN</td>\n",
        "      <td> NaN</td>\n",
        "      <td>   NaN</td>\n",
        "      <td> NaN</td>\n",
        "      <td> NaN</td>\n",
        "      <td>   NaN</td>\n",
        "      <td>NaN</td>\n",
        "      <td> NaN</td>\n",
        "      <td>...</td>\n",
        "    </tr>\n",
        "    <tr>\n",
        "      <th>10</th>\n",
        "      <td>         \u5433\u5b97\u69ae</td>\n",
        "      <td>                                             \u81fa\u5357\u5e02\u653f\u5e9c</td>\n",
        "      <td>  \u5de5\u52d9\u5c40</td>\n",
        "      <td>   \u5c40\u9577</td>\n",
        "      <td> \u7c21\u4efb(\u6d3e)</td>\n",
        "      <td> NaN</td>\n",
        "      <td> NaN</td>\n",
        "      <td> NaN</td>\n",
        "      <td>   NaN</td>\n",
        "      <td> NaN</td>\n",
        "      <td> NaN</td>\n",
        "      <td>   NaN</td>\n",
        "      <td>NaN</td>\n",
        "      <td> NaN</td>\n",
        "      <td>   NaN</td>\n",
        "      <td> NaN</td>\n",
        "      <td> NaN</td>\n",
        "      <td>   NaN</td>\n",
        "      <td>NaN</td>\n",
        "      <td> NaN</td>\n",
        "      <td>...</td>\n",
        "    </tr>\n",
        "    <tr>\n",
        "      <th>11</th>\n",
        "      <td>         \u937e\u5357\u8c6a</td>\n",
        "      <td>                                             \u81fa\u5357\u5e02\u653f\u5e9c</td>\n",
        "      <td>  \u5de5\u52d9\u5c40</td>\n",
        "      <td>   \u79d1\u9577</td>\n",
        "      <td> \u85a6\u4efb(\u6d3e)</td>\n",
        "      <td> NaN</td>\n",
        "      <td> NaN</td>\n",
        "      <td> NaN</td>\n",
        "      <td>   NaN</td>\n",
        "      <td> NaN</td>\n",
        "      <td> NaN</td>\n",
        "      <td>   NaN</td>\n",
        "      <td>NaN</td>\n",
        "      <td> NaN</td>\n",
        "      <td>   NaN</td>\n",
        "      <td> NaN</td>\n",
        "      <td> NaN</td>\n",
        "      <td>   NaN</td>\n",
        "      <td>NaN</td>\n",
        "      <td> NaN</td>\n",
        "      <td>...</td>\n",
        "    </tr>\n",
        "    <tr>\n",
        "      <th>12</th>\n",
        "      <td>         \u9ec3\u74ca\u5100</td>\n",
        "      <td>                                             \u81fa\u5357\u5e02\u653f\u5e9c</td>\n",
        "      <td>  \u5de5\u52d9\u5c40</td>\n",
        "      <td> \u6a5f\u8981\u79d8\u66f8</td>\n",
        "      <td> \u85a6\u4efb(\u6d3e)</td>\n",
        "      <td> NaN</td>\n",
        "      <td> NaN</td>\n",
        "      <td> NaN</td>\n",
        "      <td>   NaN</td>\n",
        "      <td> NaN</td>\n",
        "      <td> NaN</td>\n",
        "      <td>   NaN</td>\n",
        "      <td>NaN</td>\n",
        "      <td> NaN</td>\n",
        "      <td>   NaN</td>\n",
        "      <td> NaN</td>\n",
        "      <td> NaN</td>\n",
        "      <td>   NaN</td>\n",
        "      <td>NaN</td>\n",
        "      <td> NaN</td>\n",
        "      <td>...</td>\n",
        "    </tr>\n",
        "    <tr>\n",
        "      <th>13</th>\n",
        "      <td>         \u6797\u7389\u8339</td>\n",
        "      <td>                                             \u81fa\u5357\u5e02\u653f\u5e9c</td>\n",
        "      <td>  \u5de5\u52d9\u5c40</td>\n",
        "      <td> \u6b63\u5de5\u7a0b\u53f8</td>\n",
        "      <td> \u85a6\u4efb(\u6d3e)</td>\n",
        "      <td> NaN</td>\n",
        "      <td> NaN</td>\n",
        "      <td> NaN</td>\n",
        "      <td>   NaN</td>\n",
        "      <td> NaN</td>\n",
        "      <td> NaN</td>\n",
        "      <td>   NaN</td>\n",
        "      <td>NaN</td>\n",
        "      <td> NaN</td>\n",
        "      <td>   NaN</td>\n",
        "      <td> NaN</td>\n",
        "      <td> NaN</td>\n",
        "      <td>   NaN</td>\n",
        "      <td>NaN</td>\n",
        "      <td> NaN</td>\n",
        "      <td>...</td>\n",
        "    </tr>\n",
        "    <tr>\n",
        "      <th>14</th>\n",
        "      <td>         \u9ec3\u90c1\u8aa0</td>\n",
        "      <td>                                             \u81fa\u5357\u5e02\u653f\u5e9c</td>\n",
        "      <td>  NaN</td>\n",
        "      <td> \u5e6b\u5de5\u7a0b\u53f8</td>\n",
        "      <td> \u85a6\u4efb(\u6d3e)</td>\n",
        "      <td> NaN</td>\n",
        "      <td> NaN</td>\n",
        "      <td> NaN</td>\n",
        "      <td>   NaN</td>\n",
        "      <td> NaN</td>\n",
        "      <td> NaN</td>\n",
        "      <td>   NaN</td>\n",
        "      <td>NaN</td>\n",
        "      <td> NaN</td>\n",
        "      <td>   NaN</td>\n",
        "      <td> NaN</td>\n",
        "      <td> NaN</td>\n",
        "      <td>   NaN</td>\n",
        "      <td>NaN</td>\n",
        "      <td> NaN</td>\n",
        "      <td>...</td>\n",
        "    </tr>\n",
        "    <tr>\n",
        "      <th>15</th>\n",
        "      <td>       \u524d\u5f80\u5730\u5340\uff1a</td>\n",
        "      <td>                                                \u7f8e\u570b</td>\n",
        "      <td>  NaN</td>\n",
        "      <td>  NaN</td>\n",
        "      <td>   NaN</td>\n",
        "      <td> NaN</td>\n",
        "      <td> NaN</td>\n",
        "      <td> NaN</td>\n",
        "      <td>   NaN</td>\n",
        "      <td> NaN</td>\n",
        "      <td> NaN</td>\n",
        "      <td>   NaN</td>\n",
        "      <td>NaN</td>\n",
        "      <td> NaN</td>\n",
        "      <td>   NaN</td>\n",
        "      <td> NaN</td>\n",
        "      <td> NaN</td>\n",
        "      <td>   NaN</td>\n",
        "      <td>NaN</td>\n",
        "      <td> NaN</td>\n",
        "      <td>...</td>\n",
        "    </tr>\n",
        "    <tr>\n",
        "      <th>16</th>\n",
        "      <td>       \u53c3\u8a2a\u6a5f\u95dc\uff1a</td>\n",
        "      <td>                                     \u7f8e\u570b\u99ac\u91cc\u862d\u5dde\u8499\u54e5\u99ac\u5229\u4ea4\u901a\u5c40</td>\n",
        "      <td>  NaN</td>\n",
        "      <td>  NaN</td>\n",
        "      <td>   NaN</td>\n",
        "      <td> NaN</td>\n",
        "      <td> NaN</td>\n",
        "      <td> NaN</td>\n",
        "      <td>   NaN</td>\n",
        "      <td> NaN</td>\n",
        "      <td> NaN</td>\n",
        "      <td>   NaN</td>\n",
        "      <td>NaN</td>\n",
        "      <td> NaN</td>\n",
        "      <td>   NaN</td>\n",
        "      <td> NaN</td>\n",
        "      <td> NaN</td>\n",
        "      <td>   NaN</td>\n",
        "      <td>NaN</td>\n",
        "      <td> NaN</td>\n",
        "      <td>...</td>\n",
        "    </tr>\n",
        "    <tr>\n",
        "      <th>17</th>\n",
        "      <td>       \u51fa\u570b\u985e\u5225\uff1a</td>\n",
        "      <td>                    \u5176\u4ed6(\u53c3\u8a2a)\uff08\u5176\u4ed6\u985e\u5225\u4e4b\u51fa\u570b\u5831\u544a\u4fc2\u4f9d\u5404\u6a5f\u95dc\u81ea\u8a02\u7ba1\u7406\u65b9\u5f0f\u8655\u7406\uff09</td>\n",
        "      <td>  NaN</td>\n",
        "      <td>  NaN</td>\n",
        "      <td>   NaN</td>\n",
        "      <td> NaN</td>\n",
        "      <td> NaN</td>\n",
        "      <td> NaN</td>\n",
        "      <td>   NaN</td>\n",
        "      <td> NaN</td>\n",
        "      <td> NaN</td>\n",
        "      <td>   NaN</td>\n",
        "      <td>NaN</td>\n",
        "      <td> NaN</td>\n",
        "      <td>   NaN</td>\n",
        "      <td> NaN</td>\n",
        "      <td> NaN</td>\n",
        "      <td>   NaN</td>\n",
        "      <td>NaN</td>\n",
        "      <td> NaN</td>\n",
        "      <td>...</td>\n",
        "    </tr>\n",
        "    <tr>\n",
        "      <th>18</th>\n",
        "      <td>       \u51fa\u570b\u671f\u9593\uff1a</td>\n",
        "      <td>                       \u6c11\u570b103\u5e7401\u670811\u65e5\u00a0\u81f3\u00a0\u6c11\u570b103\u5e7401\u670818\u65e5</td>\n",
        "      <td>  NaN</td>\n",
        "      <td>  NaN</td>\n",
        "      <td>   NaN</td>\n",
        "      <td> NaN</td>\n",
        "      <td> NaN</td>\n",
        "      <td> NaN</td>\n",
        "      <td>   NaN</td>\n",
        "      <td> NaN</td>\n",
        "      <td> NaN</td>\n",
        "      <td>   NaN</td>\n",
        "      <td>NaN</td>\n",
        "      <td> NaN</td>\n",
        "      <td>   NaN</td>\n",
        "      <td> NaN</td>\n",
        "      <td> NaN</td>\n",
        "      <td>   NaN</td>\n",
        "      <td>NaN</td>\n",
        "      <td> NaN</td>\n",
        "      <td>...</td>\n",
        "    </tr>\n",
        "    <tr>\n",
        "      <th>19</th>\n",
        "      <td>         \u5099\u8a3b\uff1a</td>\n",
        "      <td>                                               NaN</td>\n",
        "      <td>  NaN</td>\n",
        "      <td>  NaN</td>\n",
        "      <td>   NaN</td>\n",
        "      <td> NaN</td>\n",
        "      <td> NaN</td>\n",
        "      <td> NaN</td>\n",
        "      <td>   NaN</td>\n",
        "      <td> NaN</td>\n",
        "      <td> NaN</td>\n",
        "      <td>   NaN</td>\n",
        "      <td>NaN</td>\n",
        "      <td> NaN</td>\n",
        "      <td>   NaN</td>\n",
        "      <td> NaN</td>\n",
        "      <td> NaN</td>\n",
        "      <td>   NaN</td>\n",
        "      <td>NaN</td>\n",
        "      <td> NaN</td>\n",
        "      <td>...</td>\n",
        "    </tr>\n",
        "    <tr>\n",
        "      <th>20</th>\n",
        "      <td>       \u5831\u544a\u65e5\u671f\uff1a</td>\n",
        "      <td>                                      \u6c11\u570b103\u5e7403\u670810\u65e5</td>\n",
        "      <td>  NaN</td>\n",
        "      <td>  NaN</td>\n",
        "      <td>   NaN</td>\n",
        "      <td> NaN</td>\n",
        "      <td> NaN</td>\n",
        "      <td> NaN</td>\n",
        "      <td>   NaN</td>\n",
        "      <td> NaN</td>\n",
        "      <td> NaN</td>\n",
        "      <td>   NaN</td>\n",
        "      <td>NaN</td>\n",
        "      <td> NaN</td>\n",
        "      <td>   NaN</td>\n",
        "      <td> NaN</td>\n",
        "      <td> NaN</td>\n",
        "      <td>   NaN</td>\n",
        "      <td>NaN</td>\n",
        "      <td> NaN</td>\n",
        "      <td>...</td>\n",
        "    </tr>\n",
        "    <tr>\n",
        "      <th>21</th>\n",
        "      <td>       \u4e3b\u984c\u5206\u985e\uff1a</td>\n",
        "      <td>                                              \u4ea4\u901a\u5efa\u8a2d</td>\n",
        "      <td>  NaN</td>\n",
        "      <td>  NaN</td>\n",
        "      <td>   NaN</td>\n",
        "      <td> NaN</td>\n",
        "      <td> NaN</td>\n",
        "      <td> NaN</td>\n",
        "      <td>   NaN</td>\n",
        "      <td> NaN</td>\n",
        "      <td> NaN</td>\n",
        "      <td>   NaN</td>\n",
        "      <td>NaN</td>\n",
        "      <td> NaN</td>\n",
        "      <td>   NaN</td>\n",
        "      <td> NaN</td>\n",
        "      <td> NaN</td>\n",
        "      <td>   NaN</td>\n",
        "      <td>NaN</td>\n",
        "      <td> NaN</td>\n",
        "      <td>...</td>\n",
        "    </tr>\n",
        "    <tr>\n",
        "      <th>22</th>\n",
        "      <td>       \u65bd\u653f\u5206\u985e\uff1a</td>\n",
        "      <td>                                             \u4ea4\u901a\u53ca\u5efa\u8a2d</td>\n",
        "      <td>  NaN</td>\n",
        "      <td>  NaN</td>\n",
        "      <td>   NaN</td>\n",
        "      <td> NaN</td>\n",
        "      <td> NaN</td>\n",
        "      <td> NaN</td>\n",
        "      <td>   NaN</td>\n",
        "      <td> NaN</td>\n",
        "      <td> NaN</td>\n",
        "      <td>   NaN</td>\n",
        "      <td>NaN</td>\n",
        "      <td> NaN</td>\n",
        "      <td>   NaN</td>\n",
        "      <td> NaN</td>\n",
        "      <td> NaN</td>\n",
        "      <td>   NaN</td>\n",
        "      <td>NaN</td>\n",
        "      <td> NaN</td>\n",
        "      <td>...</td>\n",
        "    </tr>\n",
        "    <tr>\n",
        "      <th>23</th>\n",
        "      <td>        \u95dc\u9375\u8a5e\uff1a</td>\n",
        "      <td>                            TRB\uff0cPSI\uff0c\u8499\u54e5\u99ac\u5229\u90e1\u4ea4\u901a\u5c40\uff0c\u83ef\u76db\u9813DC</td>\n",
        "      <td>  NaN</td>\n",
        "      <td>  NaN</td>\n",
        "      <td>   NaN</td>\n",
        "      <td> NaN</td>\n",
        "      <td> NaN</td>\n",
        "      <td> NaN</td>\n",
        "      <td>   NaN</td>\n",
        "      <td> NaN</td>\n",
        "      <td> NaN</td>\n",
        "      <td>   NaN</td>\n",
        "      <td>NaN</td>\n",
        "      <td> NaN</td>\n",
        "      <td>   NaN</td>\n",
        "      <td> NaN</td>\n",
        "      <td> NaN</td>\n",
        "      <td>   NaN</td>\n",
        "      <td>NaN</td>\n",
        "      <td> NaN</td>\n",
        "      <td>...</td>\n",
        "    </tr>\n",
        "    <tr>\n",
        "      <th>24</th>\n",
        "      <td>      \u5831\u544a\u66f8\u9801\u6578\uff1a</td>\n",
        "      <td>                                               42\u9801</td>\n",
        "      <td>  NaN</td>\n",
        "      <td>  NaN</td>\n",
        "      <td>   NaN</td>\n",
        "      <td> NaN</td>\n",
        "      <td> NaN</td>\n",
        "      <td> NaN</td>\n",
        "      <td>   NaN</td>\n",
        "      <td> NaN</td>\n",
        "      <td> NaN</td>\n",
        "      <td>   NaN</td>\n",
        "      <td>NaN</td>\n",
        "      <td> NaN</td>\n",
        "      <td>   NaN</td>\n",
        "      <td> NaN</td>\n",
        "      <td> NaN</td>\n",
        "      <td>   NaN</td>\n",
        "      <td>NaN</td>\n",
        "      <td> NaN</td>\n",
        "      <td>...</td>\n",
        "    </tr>\n",
        "    <tr>\n",
        "      <th>25</th>\n",
        "      <td>     \u5831\u544a\u5167\u5bb9\u6458\u8981\uff1a</td>\n",
        "      <td> \u70ba\u53c3\u8003\u5168\u7403\u6700\u65b0\u7684\u9053\u8def\u5de5\u7a0b\u76f8\u95dc\u4e4b\u6280\u8853\u3001\u92ea\u9762\u6750\u6599\u61c9\u7528\u3001\u9053\u8def\u4f5c\u696d\u5148\u671f\u898f\u5283\u3001\u5de5\u7a0b\u65bd\u5de5\u54c1\u8cea\u7ba1\u7406\u7b49\u5404\u9762\u5411...</td>\n",
        "      <td>  NaN</td>\n",
        "      <td>  NaN</td>\n",
        "      <td>   NaN</td>\n",
        "      <td> NaN</td>\n",
        "      <td> NaN</td>\n",
        "      <td> NaN</td>\n",
        "      <td>   NaN</td>\n",
        "      <td> NaN</td>\n",
        "      <td> NaN</td>\n",
        "      <td>   NaN</td>\n",
        "      <td>NaN</td>\n",
        "      <td> NaN</td>\n",
        "      <td>   NaN</td>\n",
        "      <td> NaN</td>\n",
        "      <td> NaN</td>\n",
        "      <td>   NaN</td>\n",
        "      <td>NaN</td>\n",
        "      <td> NaN</td>\n",
        "      <td>...</td>\n",
        "    </tr>\n",
        "  </tbody>\n",
        "</table>\n",
        "<p>26 rows \u00d7 37 columns</p>\n",
        "</div>"
       ],
       "metadata": {},
       "output_type": "pyout",
       "prompt_number": 7,
       "text": [
        "             0                                                  1     2   \\\n",
        "0         \u9ede\u95b1\u6b21\u6578\uff1a                                                 73   NaN   \n",
        "1        \u7cfb\u7d71\u8b58\u5225\u865f\uff1a                                          C103AV005   NaN   \n",
        "2        \u8a08\u756b\u540d\u7a31 \uff1a                          \u53c3\u52a0\u7b2c93\u5c46TRB\u5e74\u6703\u66a8\u99ac\u91cc\u862d\u5dde\u8514\u54e5\u99ac\u5229\u90e1\u5de5\u7a0b\u53c3\u8a2a   NaN   \n",
        "3         \u5831\u544a\u540d\u7a31\uff1a                          \u53c3\u52a0\u7b2c93\u5c46TRB\u5e74\u6703\u66a8\u99ac\u91cc\u862d\u5dde\u8514\u54e5\u99ac\u5229\u90e1\u5de5\u7a0b\u53c3\u8a2a   NaN   \n",
        "4       \u96fb\u5b50\u5168\u6587\u6a94 \uff1a                                   C103AV005_01.doc   NaN   \n",
        "5          \u9644\u4ef6\u6a94\uff1a                                                NaN   NaN   \n",
        "6       \u8a08\u756b\u4e3b\u8fa6\u6a5f\u95dc\uff1a                                              \u81fa\u5357\u5e02\u653f\u5e9c   NaN   \n",
        "7   \u8a08\u5283\u4e3b\u8fa6\u6a5f\u95dc\u7db2\u7ad9\u9996\u9801\uff1a                                                NaN   NaN   \n",
        "8         \u51fa\u570b\u4eba\u54e1\uff1a  \u51fa\u570b\u4eba\u54e1\u540d\u55ae  \u59d3\u540d \u670d\u52d9\u6a5f\u95dc  \u670d\u52d9\u55ae\u4f4d  \u8077\u7a31  \u5b98\u8077\u7b49 \u5433\u5b97\u69ae  \u81fa\u5357\u5e02\u653f\u5e9c  \u5de5\u52d9\u5c40...    \u59d3\u540d   \n",
        "9            \u59d3\u540d                                               \u670d\u52d9\u6a5f\u95dc  \u670d\u52d9\u55ae\u4f4d   \n",
        "10          \u5433\u5b97\u69ae                                              \u81fa\u5357\u5e02\u653f\u5e9c   \u5de5\u52d9\u5c40   \n",
        "11          \u937e\u5357\u8c6a                                              \u81fa\u5357\u5e02\u653f\u5e9c   \u5de5\u52d9\u5c40   \n",
        "12          \u9ec3\u74ca\u5100                                              \u81fa\u5357\u5e02\u653f\u5e9c   \u5de5\u52d9\u5c40   \n",
        "13          \u6797\u7389\u8339                                              \u81fa\u5357\u5e02\u653f\u5e9c   \u5de5\u52d9\u5c40   \n",
        "14          \u9ec3\u90c1\u8aa0                                              \u81fa\u5357\u5e02\u653f\u5e9c   NaN   \n",
        "15        \u524d\u5f80\u5730\u5340\uff1a                                                 \u7f8e\u570b   NaN   \n",
        "16        \u53c3\u8a2a\u6a5f\u95dc\uff1a                                      \u7f8e\u570b\u99ac\u91cc\u862d\u5dde\u8499\u54e5\u99ac\u5229\u4ea4\u901a\u5c40   NaN   \n",
        "17        \u51fa\u570b\u985e\u5225\uff1a                     \u5176\u4ed6(\u53c3\u8a2a)\uff08\u5176\u4ed6\u985e\u5225\u4e4b\u51fa\u570b\u5831\u544a\u4fc2\u4f9d\u5404\u6a5f\u95dc\u81ea\u8a02\u7ba1\u7406\u65b9\u5f0f\u8655\u7406\uff09   NaN   \n",
        "18        \u51fa\u570b\u671f\u9593\uff1a                        \u6c11\u570b103\u5e7401\u670811\u65e5\u00a0\u81f3\u00a0\u6c11\u570b103\u5e7401\u670818\u65e5   NaN   \n",
        "19          \u5099\u8a3b\uff1a                                                NaN   NaN   \n",
        "20        \u5831\u544a\u65e5\u671f\uff1a                                       \u6c11\u570b103\u5e7403\u670810\u65e5   NaN   \n",
        "21        \u4e3b\u984c\u5206\u985e\uff1a                                               \u4ea4\u901a\u5efa\u8a2d   NaN   \n",
        "22        \u65bd\u653f\u5206\u985e\uff1a                                              \u4ea4\u901a\u53ca\u5efa\u8a2d   NaN   \n",
        "23         \u95dc\u9375\u8a5e\uff1a                             TRB\uff0cPSI\uff0c\u8499\u54e5\u99ac\u5229\u90e1\u4ea4\u901a\u5c40\uff0c\u83ef\u76db\u9813DC   NaN   \n",
        "24       \u5831\u544a\u66f8\u9801\u6578\uff1a                                                42\u9801   NaN   \n",
        "25      \u5831\u544a\u5167\u5bb9\u6458\u8981\uff1a  \u70ba\u53c3\u8003\u5168\u7403\u6700\u65b0\u7684\u9053\u8def\u5de5\u7a0b\u76f8\u95dc\u4e4b\u6280\u8853\u3001\u92ea\u9762\u6750\u6599\u61c9\u7528\u3001\u9053\u8def\u4f5c\u696d\u5148\u671f\u898f\u5283\u3001\u5de5\u7a0b\u65bd\u5de5\u54c1\u8cea\u7ba1\u7406\u7b49\u5404\u9762\u5411...   NaN   \n",
        "\n",
        "      3      4    5    6    7      8    9    10     11  12   13     14   15  \\\n",
        "0    NaN    NaN  NaN  NaN  NaN    NaN  NaN  NaN    NaN NaN  NaN    NaN  NaN   \n",
        "1    NaN    NaN  NaN  NaN  NaN    NaN  NaN  NaN    NaN NaN  NaN    NaN  NaN   \n",
        "2    NaN    NaN  NaN  NaN  NaN    NaN  NaN  NaN    NaN NaN  NaN    NaN  NaN   \n",
        "3    NaN    NaN  NaN  NaN  NaN    NaN  NaN  NaN    NaN NaN  NaN    NaN  NaN   \n",
        "4    NaN    NaN  NaN  NaN  NaN    NaN  NaN  NaN    NaN NaN  NaN    NaN  NaN   \n",
        "5    NaN    NaN  NaN  NaN  NaN    NaN  NaN  NaN    NaN NaN  NaN    NaN  NaN   \n",
        "6    NaN    NaN  NaN  NaN  NaN    NaN  NaN  NaN    NaN NaN  NaN    NaN  NaN   \n",
        "7    NaN    NaN  NaN  NaN  NaN    NaN  NaN  NaN    NaN NaN  NaN    NaN  NaN   \n",
        "8   \u670d\u52d9\u6a5f\u95dc   \u670d\u52d9\u55ae\u4f4d   \u8077\u7a31  \u5b98\u8077\u7b49  \u5433\u5b97\u69ae  \u81fa\u5357\u5e02\u653f\u5e9c  \u5de5\u52d9\u5c40   \u5c40\u9577  \u7c21\u4efb(\u6d3e) NaN  \u937e\u5357\u8c6a  \u81fa\u5357\u5e02\u653f\u5e9c  \u5de5\u52d9\u5c40   \n",
        "9     \u8077\u7a31    \u5b98\u8077\u7b49  NaN  NaN  NaN    NaN  NaN  NaN    NaN NaN  NaN    NaN  NaN   \n",
        "10    \u5c40\u9577  \u7c21\u4efb(\u6d3e)  NaN  NaN  NaN    NaN  NaN  NaN    NaN NaN  NaN    NaN  NaN   \n",
        "11    \u79d1\u9577  \u85a6\u4efb(\u6d3e)  NaN  NaN  NaN    NaN  NaN  NaN    NaN NaN  NaN    NaN  NaN   \n",
        "12  \u6a5f\u8981\u79d8\u66f8  \u85a6\u4efb(\u6d3e)  NaN  NaN  NaN    NaN  NaN  NaN    NaN NaN  NaN    NaN  NaN   \n",
        "13  \u6b63\u5de5\u7a0b\u53f8  \u85a6\u4efb(\u6d3e)  NaN  NaN  NaN    NaN  NaN  NaN    NaN NaN  NaN    NaN  NaN   \n",
        "14  \u5e6b\u5de5\u7a0b\u53f8  \u85a6\u4efb(\u6d3e)  NaN  NaN  NaN    NaN  NaN  NaN    NaN NaN  NaN    NaN  NaN   \n",
        "15   NaN    NaN  NaN  NaN  NaN    NaN  NaN  NaN    NaN NaN  NaN    NaN  NaN   \n",
        "16   NaN    NaN  NaN  NaN  NaN    NaN  NaN  NaN    NaN NaN  NaN    NaN  NaN   \n",
        "17   NaN    NaN  NaN  NaN  NaN    NaN  NaN  NaN    NaN NaN  NaN    NaN  NaN   \n",
        "18   NaN    NaN  NaN  NaN  NaN    NaN  NaN  NaN    NaN NaN  NaN    NaN  NaN   \n",
        "19   NaN    NaN  NaN  NaN  NaN    NaN  NaN  NaN    NaN NaN  NaN    NaN  NaN   \n",
        "20   NaN    NaN  NaN  NaN  NaN    NaN  NaN  NaN    NaN NaN  NaN    NaN  NaN   \n",
        "21   NaN    NaN  NaN  NaN  NaN    NaN  NaN  NaN    NaN NaN  NaN    NaN  NaN   \n",
        "22   NaN    NaN  NaN  NaN  NaN    NaN  NaN  NaN    NaN NaN  NaN    NaN  NaN   \n",
        "23   NaN    NaN  NaN  NaN  NaN    NaN  NaN  NaN    NaN NaN  NaN    NaN  NaN   \n",
        "24   NaN    NaN  NaN  NaN  NaN    NaN  NaN  NaN    NaN NaN  NaN    NaN  NaN   \n",
        "25   NaN    NaN  NaN  NaN  NaN    NaN  NaN  NaN    NaN NaN  NaN    NaN  NaN   \n",
        "\n",
        "     16     17  18   19      \n",
        "0   NaN    NaN NaN  NaN ...  \n",
        "1   NaN    NaN NaN  NaN ...  \n",
        "2   NaN    NaN NaN  NaN ...  \n",
        "3   NaN    NaN NaN  NaN ...  \n",
        "4   NaN    NaN NaN  NaN ...  \n",
        "5   NaN    NaN NaN  NaN ...  \n",
        "6   NaN    NaN NaN  NaN ...  \n",
        "7   NaN    NaN NaN  NaN ...  \n",
        "8    \u79d1\u9577  \u85a6\u4efb(\u6d3e) NaN  \u9ec3\u74ca\u5100 ...  \n",
        "9   NaN    NaN NaN  NaN ...  \n",
        "10  NaN    NaN NaN  NaN ...  \n",
        "11  NaN    NaN NaN  NaN ...  \n",
        "12  NaN    NaN NaN  NaN ...  \n",
        "13  NaN    NaN NaN  NaN ...  \n",
        "14  NaN    NaN NaN  NaN ...  \n",
        "15  NaN    NaN NaN  NaN ...  \n",
        "16  NaN    NaN NaN  NaN ...  \n",
        "17  NaN    NaN NaN  NaN ...  \n",
        "18  NaN    NaN NaN  NaN ...  \n",
        "19  NaN    NaN NaN  NaN ...  \n",
        "20  NaN    NaN NaN  NaN ...  \n",
        "21  NaN    NaN NaN  NaN ...  \n",
        "22  NaN    NaN NaN  NaN ...  \n",
        "23  NaN    NaN NaN  NaN ...  \n",
        "24  NaN    NaN NaN  NaN ...  \n",
        "25  NaN    NaN NaN  NaN ...  \n",
        "\n",
        "[26 rows x 37 columns]"
       ]
      }
     ],
     "prompt_number": 7
    },
    {
     "cell_type": "code",
     "collapsed": false,
     "input": [
      "\n",
      "res=requests.get(\"http://210.69.40.134/OpenFront/report/report_result.jsp?level=1&categoryId=1&cateType=1\")\n",
      "tables=pd.read_html(res.text)"
     ],
     "language": "python",
     "metadata": {},
     "outputs": [],
     "prompt_number": 8
    },
    {
     "cell_type": "code",
     "collapsed": false,
     "input": [
      "data_table1= [one_table for one_table in tables if one_table.shape>=(3,3)][0]\n",
      "data_table1"
     ],
     "language": "python",
     "metadata": {},
     "outputs": [
      {
       "html": [
        "<div style=\"max-height:1000px;max-width:1500px;overflow:auto;\">\n",
        "<table border=\"1\" class=\"dataframe\">\n",
        "  <thead>\n",
        "    <tr style=\"text-align: right;\">\n",
        "      <th></th>\n",
        "      <th>0</th>\n",
        "      <th>1</th>\n",
        "      <th>2</th>\n",
        "      <th>3</th>\n",
        "      <th>4</th>\n",
        "      <th>5</th>\n",
        "      <th>6</th>\n",
        "      <th>7</th>\n",
        "      <th>8</th>\n",
        "    </tr>\n",
        "  </thead>\n",
        "  <tbody>\n",
        "    <tr>\n",
        "      <th>0 </th>\n",
        "      <td> \u6b64\u70ba\u52fe\u9078\u6b64\u9801\u5168\u90e8\u67e5\u8a62\u7d50\u679c\u7684script, \u60a8\u53ef\u4ee5\u81ea\u884c\u52fe\u9078\u60a8\u8981\u7684\u9805\u76ee\u3002  \u6b64\u70ba\u53d6\u6d88\u6b64\u9801\u5168\u90e8\u60a8\u5df2...</td>\n",
        "      <td> \u5e8f\u865f</td>\n",
        "      <td>     \u7cfb\u7d71\u8b58\u5225\u865f</td>\n",
        "      <td> \u9ede\u95b1\u6b21\u6578</td>\n",
        "      <td>                                       \u8a08\u756b\u540d\u7a31 [\u5831\u544a\u540d\u7a31]</td>\n",
        "      <td>   \u51fa\u570b\u4eba\u54e1</td>\n",
        "      <td>  \u524d\u5f80\u5730\u5340</td>\n",
        "      <td>                \u51fa\u570b\u671f\u9593</td>\n",
        "      <td>      \u5831\u544a\u65e5\u671f</td>\n",
        "    </tr>\n",
        "    <tr>\n",
        "      <th>1 </th>\n",
        "      <td>                                               NaN</td>\n",
        "      <td>  1</td>\n",
        "      <td> C103AV006</td>\n",
        "      <td>    7</td>\n",
        "      <td>                                     \u9999\u6e2f\u5730\u5340\u570b\u969b\u862d\u5c55\u63a8\u4ecb\u8a18\u8005\u6703</td>\n",
        "      <td> \u9673\u4fca\u5b89\u7b493\u4eba</td>\n",
        "      <td>    \u9999\u6e2f</td>\n",
        "      <td> 103/02/24\u81f3103/02/25</td>\n",
        "      <td>       NaN</td>\n",
        "    </tr>\n",
        "    <tr>\n",
        "      <th>2 </th>\n",
        "      <td>                                               NaN</td>\n",
        "      <td>  2</td>\n",
        "      <td> C103AV005</td>\n",
        "      <td>   73</td>\n",
        "      <td> \u53c3\u52a0\u7b2c93\u5c46TRB\u5e74\u6703\u66a8\u99ac\u91cc\u862d\u5dde\u8514\u54e5\u99ac\u5229\u90e1\u5de5\u7a0b\u53c3\u8a2a[\u53c3\u52a0\u7b2c93\u5c46TRB\u5e74\u6703\u66a8\u99ac\u91cc\u862d\u5dde\u8514\u54e5\u99ac\u5229...</td>\n",
        "      <td> \u5433\u5b97\u69ae\u7b495\u4eba</td>\n",
        "      <td>    \u7f8e\u570b</td>\n",
        "      <td> 103/01/11\u81f3103/01/18</td>\n",
        "      <td> 103/03/10</td>\n",
        "    </tr>\n",
        "    <tr>\n",
        "      <th>3 </th>\n",
        "      <td>                                               NaN</td>\n",
        "      <td>  3</td>\n",
        "      <td> C103AV002</td>\n",
        "      <td>  108</td>\n",
        "      <td>       2013\u5e7412\u6708\u81fa\u5357\u5e02\u653f\u5e9c\u65e5\u672c\u8a2a\u554f\u5718[2013\u5e7412\u6708\u81fa\u5357\u5e02\u653f\u5e9c\u65e5\u672c\u8a2a\u554f\u5718\u51fa\u570b\u5831\u544a\u66f8]</td>\n",
        "      <td> \u8a31\u548c\u921e\u7b495\u4eba</td>\n",
        "      <td>    \u65e5\u672c</td>\n",
        "      <td> 102/12/16\u81f3102/12/19</td>\n",
        "      <td> 103/01/23</td>\n",
        "    </tr>\n",
        "    <tr>\n",
        "      <th>4 </th>\n",
        "      <td>                                               NaN</td>\n",
        "      <td>  4</td>\n",
        "      <td> C103AV001</td>\n",
        "      <td>   88</td>\n",
        "      <td>            \u7b2c\u516d\u5c46\u300c\u6d77\u5cfd\u5169\u5cb8\u6587\u5316\u5275\u610f\u7522\u696d\u535a\u89bd\u6703\u300d[\u7b2c\u516d\u5c46\u300c\u6d77\u5cfd\u5169\u5cb8\u6587\u5316\u5275\u610f\u7522\u696d\u535a\u89bd\u6703\u300d]</td>\n",
        "      <td> \u9ec3\u540d\u4ea8\u7b492\u4eba</td>\n",
        "      <td>  \u4e2d\u570b\u5927\u9678</td>\n",
        "      <td> 102/10/24\u81f3102/10/29</td>\n",
        "      <td> 102/12/09</td>\n",
        "    </tr>\n",
        "    <tr>\n",
        "      <th>5 </th>\n",
        "      <td>                                               NaN</td>\n",
        "      <td>  5</td>\n",
        "      <td> C103AV004</td>\n",
        "      <td>   75</td>\n",
        "      <td> 2013 20th ITS World Congress TOKYO \uff082013\u5e74\u65e5\u672c\u6771\u4eac\u7b2c...</td>\n",
        "      <td>    \u674e\u5149\u76ca</td>\n",
        "      <td>    \u65e5\u672c</td>\n",
        "      <td> 102/10/13\u81f3102/10/19</td>\n",
        "      <td> 103/01/17</td>\n",
        "    </tr>\n",
        "    <tr>\n",
        "      <th>6 </th>\n",
        "      <td>                                               NaN</td>\n",
        "      <td>  6</td>\n",
        "      <td> C102AV018</td>\n",
        "      <td>  170</td>\n",
        "      <td>                        \u65e5\u672c\u6578\u4f4d\u6587\u5275\u5712\u5340\u8003\u5bdf[\u65e5\u672c\u6578\u4f4d\u6587\u5275\u5712\u5340\u8003\u5bdf\u53c3\u8a2a\u5831\u544a]</td>\n",
        "      <td> \u738b\u6642\u601d\u7b493\u4eba</td>\n",
        "      <td>    \u65e5\u672c</td>\n",
        "      <td> 102/10/06\u81f3102/10/09</td>\n",
        "      <td> 102/10/22</td>\n",
        "    </tr>\n",
        "    <tr>\n",
        "      <th>7 </th>\n",
        "      <td>                                               NaN</td>\n",
        "      <td>  7</td>\n",
        "      <td> C102AV015</td>\n",
        "      <td>   82</td>\n",
        "      <td> \u5169\u5cb8\u5b97\u6559\u6587\u5316\u4ea4\u6d41\u6d3b\u52d5\uff0d\u7b2c\u56db\u5c46\u5ee3\u6fa4\u5c0a\u738b\u6587\u5316\u65c5\u904a\u7bc0[\u5169\u5cb8\u5b97\u6559\u6587\u5316\u4ea4\u6d41\u6d3b\u52d5\uff0d\u7b2c\u56db\u5c46\u5ee3\u6fa4\u5c0a\u738b\u6587\u5316\u65c5\u904a...</td>\n",
        "      <td> \u6234\u9cf3\u9686\u7b492\u4eba</td>\n",
        "      <td>  \u4e2d\u570b\u5927\u9678</td>\n",
        "      <td> 102/09/11\u81f3102/09/16</td>\n",
        "      <td> 102/10/01</td>\n",
        "    </tr>\n",
        "    <tr>\n",
        "      <th>8 </th>\n",
        "      <td>                                               NaN</td>\n",
        "      <td>  8</td>\n",
        "      <td> C102AV022</td>\n",
        "      <td>  180</td>\n",
        "      <td>           2013\u5e749\u67085-8\u65e5\u81fa\u5357\u5728\u5730\u5a92\u9ad4\u6e2f\u6fb3\u53c3\u8a2a\u5718[\u672c\u5e02\u5728\u5730\u5a92\u9ad4\u6e2f\u6fb3\u53c3\u8a2a\u5718\u51fa\u570b\u5831\u544a]</td>\n",
        "      <td> \u8d99\u537f\u60e0\u7b494\u4eba</td>\n",
        "      <td> \u9999\u6e2f\u7b492\u570b</td>\n",
        "      <td> 102/09/05\u81f3102/09/08</td>\n",
        "      <td> 102/11/26</td>\n",
        "    </tr>\n",
        "    <tr>\n",
        "      <th>9 </th>\n",
        "      <td>                                               NaN</td>\n",
        "      <td>  9</td>\n",
        "      <td> C102AV023</td>\n",
        "      <td>  151</td>\n",
        "      <td> \u7b2c\u516d\u5c46\u4e9e\u592a\u57ce\u5e02\u65c5\u904a\u632f\u8208\u6a5f\u69cb(TPO)\u5e74\u6703[\u8d74\u97d3\u570b\u5927\u7530\u53c3\u52a0 \u300c\u7b2c\u516d\u5c46\u4e9e\u592a\u57ce\u5e02\u65c5\u904a\u632f\u8208\u6a5f\u69cb\uff08TP...</td>\n",
        "      <td> \u8a79\u5bb6\u9293\u7b492\u4eba</td>\n",
        "      <td>    \u97d3\u570b</td>\n",
        "      <td> 102/09/04\u81f3102/09/07</td>\n",
        "      <td> 102/11/29</td>\n",
        "    </tr>\n",
        "    <tr>\n",
        "      <th>10</th>\n",
        "      <td>                                               NaN</td>\n",
        "      <td> 10</td>\n",
        "      <td> C102AV020</td>\n",
        "      <td>  164</td>\n",
        "      <td> \u53c3\u52a02013\u5e74\u300c\u7b2c21\u5c46\u6d77\u5cfd\u5169\u5cb8\u90fd\u5e02\u4ea4\u901a\u5b78\u8853\u7814\u8a0e\u6703\u300d\u53ca\u53c3\u89c0\u4e2d\u570b\u798f\u5efa\u5ec8\u9580\u53ca\u6c5f\u8607\u5e38\u5dde\u4e4b\u516c\u8eca\u6377\u904b\u7cfb...</td>\n",
        "      <td> \u5f35\u653f\u6e90\u7b492\u4eba</td>\n",
        "      <td>  \u4e2d\u570b\u5927\u9678</td>\n",
        "      <td> 102/08/13\u81f3102/08/18</td>\n",
        "      <td> 102/11/08</td>\n",
        "    </tr>\n",
        "  </tbody>\n",
        "</table>\n",
        "<p>11 rows \u00d7 9 columns</p>\n",
        "</div>"
       ],
       "metadata": {},
       "output_type": "pyout",
       "prompt_number": 20,
       "text": [
        "                                                    0   1          2     3  \\\n",
        "0   \u6b64\u70ba\u52fe\u9078\u6b64\u9801\u5168\u90e8\u67e5\u8a62\u7d50\u679c\u7684script, \u60a8\u53ef\u4ee5\u81ea\u884c\u52fe\u9078\u60a8\u8981\u7684\u9805\u76ee\u3002  \u6b64\u70ba\u53d6\u6d88\u6b64\u9801\u5168\u90e8\u60a8\u5df2...  \u5e8f\u865f      \u7cfb\u7d71\u8b58\u5225\u865f  \u9ede\u95b1\u6b21\u6578   \n",
        "1                                                 NaN   1  C103AV006     7   \n",
        "2                                                 NaN   2  C103AV005    73   \n",
        "3                                                 NaN   3  C103AV002   108   \n",
        "4                                                 NaN   4  C103AV001    88   \n",
        "5                                                 NaN   5  C103AV004    75   \n",
        "6                                                 NaN   6  C102AV018   170   \n",
        "7                                                 NaN   7  C102AV015    82   \n",
        "8                                                 NaN   8  C102AV022   180   \n",
        "9                                                 NaN   9  C102AV023   151   \n",
        "10                                                NaN  10  C102AV020   164   \n",
        "\n",
        "                                                    4       5      6  \\\n",
        "0                                         \u8a08\u756b\u540d\u7a31 [\u5831\u544a\u540d\u7a31]    \u51fa\u570b\u4eba\u54e1   \u524d\u5f80\u5730\u5340   \n",
        "1                                       \u9999\u6e2f\u5730\u5340\u570b\u969b\u862d\u5c55\u63a8\u4ecb\u8a18\u8005\u6703  \u9673\u4fca\u5b89\u7b493\u4eba     \u9999\u6e2f   \n",
        "2   \u53c3\u52a0\u7b2c93\u5c46TRB\u5e74\u6703\u66a8\u99ac\u91cc\u862d\u5dde\u8514\u54e5\u99ac\u5229\u90e1\u5de5\u7a0b\u53c3\u8a2a[\u53c3\u52a0\u7b2c93\u5c46TRB\u5e74\u6703\u66a8\u99ac\u91cc\u862d\u5dde\u8514\u54e5\u99ac\u5229...  \u5433\u5b97\u69ae\u7b495\u4eba     \u7f8e\u570b   \n",
        "3         2013\u5e7412\u6708\u81fa\u5357\u5e02\u653f\u5e9c\u65e5\u672c\u8a2a\u554f\u5718[2013\u5e7412\u6708\u81fa\u5357\u5e02\u653f\u5e9c\u65e5\u672c\u8a2a\u554f\u5718\u51fa\u570b\u5831\u544a\u66f8]  \u8a31\u548c\u921e\u7b495\u4eba     \u65e5\u672c   \n",
        "4              \u7b2c\u516d\u5c46\u300c\u6d77\u5cfd\u5169\u5cb8\u6587\u5316\u5275\u610f\u7522\u696d\u535a\u89bd\u6703\u300d[\u7b2c\u516d\u5c46\u300c\u6d77\u5cfd\u5169\u5cb8\u6587\u5316\u5275\u610f\u7522\u696d\u535a\u89bd\u6703\u300d]  \u9ec3\u540d\u4ea8\u7b492\u4eba   \u4e2d\u570b\u5927\u9678   \n",
        "5   2013 20th ITS World Congress TOKYO \uff082013\u5e74\u65e5\u672c\u6771\u4eac\u7b2c...     \u674e\u5149\u76ca     \u65e5\u672c   \n",
        "6                          \u65e5\u672c\u6578\u4f4d\u6587\u5275\u5712\u5340\u8003\u5bdf[\u65e5\u672c\u6578\u4f4d\u6587\u5275\u5712\u5340\u8003\u5bdf\u53c3\u8a2a\u5831\u544a]  \u738b\u6642\u601d\u7b493\u4eba     \u65e5\u672c   \n",
        "7   \u5169\u5cb8\u5b97\u6559\u6587\u5316\u4ea4\u6d41\u6d3b\u52d5\uff0d\u7b2c\u56db\u5c46\u5ee3\u6fa4\u5c0a\u738b\u6587\u5316\u65c5\u904a\u7bc0[\u5169\u5cb8\u5b97\u6559\u6587\u5316\u4ea4\u6d41\u6d3b\u52d5\uff0d\u7b2c\u56db\u5c46\u5ee3\u6fa4\u5c0a\u738b\u6587\u5316\u65c5\u904a...  \u6234\u9cf3\u9686\u7b492\u4eba   \u4e2d\u570b\u5927\u9678   \n",
        "8             2013\u5e749\u67085-8\u65e5\u81fa\u5357\u5728\u5730\u5a92\u9ad4\u6e2f\u6fb3\u53c3\u8a2a\u5718[\u672c\u5e02\u5728\u5730\u5a92\u9ad4\u6e2f\u6fb3\u53c3\u8a2a\u5718\u51fa\u570b\u5831\u544a]  \u8d99\u537f\u60e0\u7b494\u4eba  \u9999\u6e2f\u7b492\u570b   \n",
        "9   \u7b2c\u516d\u5c46\u4e9e\u592a\u57ce\u5e02\u65c5\u904a\u632f\u8208\u6a5f\u69cb(TPO)\u5e74\u6703[\u8d74\u97d3\u570b\u5927\u7530\u53c3\u52a0 \u300c\u7b2c\u516d\u5c46\u4e9e\u592a\u57ce\u5e02\u65c5\u904a\u632f\u8208\u6a5f\u69cb\uff08TP...  \u8a79\u5bb6\u9293\u7b492\u4eba     \u97d3\u570b   \n",
        "10  \u53c3\u52a02013\u5e74\u300c\u7b2c21\u5c46\u6d77\u5cfd\u5169\u5cb8\u90fd\u5e02\u4ea4\u901a\u5b78\u8853\u7814\u8a0e\u6703\u300d\u53ca\u53c3\u89c0\u4e2d\u570b\u798f\u5efa\u5ec8\u9580\u53ca\u6c5f\u8607\u5e38\u5dde\u4e4b\u516c\u8eca\u6377\u904b\u7cfb...  \u5f35\u653f\u6e90\u7b492\u4eba   \u4e2d\u570b\u5927\u9678   \n",
        "\n",
        "                      7          8  \n",
        "0                  \u51fa\u570b\u671f\u9593       \u5831\u544a\u65e5\u671f  \n",
        "1   103/02/24\u81f3103/02/25        NaN  \n",
        "2   103/01/11\u81f3103/01/18  103/03/10  \n",
        "3   102/12/16\u81f3102/12/19  103/01/23  \n",
        "4   102/10/24\u81f3102/10/29  102/12/09  \n",
        "5   102/10/13\u81f3102/10/19  103/01/17  \n",
        "6   102/10/06\u81f3102/10/09  102/10/22  \n",
        "7   102/09/11\u81f3102/09/16  102/10/01  \n",
        "8   102/09/05\u81f3102/09/08  102/11/26  \n",
        "9   102/09/04\u81f3102/09/07  102/11/29  \n",
        "10  102/08/13\u81f3102/08/18  102/11/08  \n",
        "\n",
        "[11 rows x 9 columns]"
       ]
      }
     ],
     "prompt_number": 20
    },
    {
     "cell_type": "code",
     "collapsed": false,
     "input": [
      "#\u627e\u5230\u6848\u865f\n",
      "col=data_table1.values[1:,2]\n",
      "for i in col: print i"
     ],
     "language": "python",
     "metadata": {},
     "outputs": [
      {
       "output_type": "stream",
       "stream": "stdout",
       "text": [
        "C103AV006\n",
        "C103AV005\n",
        "C103AV002\n",
        "C103AV001\n",
        "C103AV004\n",
        "C102AV018\n",
        "C102AV015\n",
        "C102AV022\n",
        "C102AV023\n",
        "C102AV020\n"
       ]
      }
     ],
     "prompt_number": 17
    },
    {
     "cell_type": "heading",
     "level": 1,
     "metadata": {},
     "source": [
      "\u627e\u7e3d\u9801\u6578"
     ]
    },
    {
     "cell_type": "code",
     "collapsed": false,
     "input": [
      "from bs4 import BeautifulSoup\n",
      "\n",
      "soup = BeautifulSoup(res.text)\n",
      "pageDropdown=soup.find(\"select\", { \"id\" : \"pageNo\" }).find_all(\"option\")\n",
      "maxPage=max([ int(i['value']) for i in pageDropdown])\n",
      "maxPage"
     ],
     "language": "python",
     "metadata": {},
     "outputs": [
      {
       "metadata": {},
       "output_type": "pyout",
       "prompt_number": 34,
       "text": [
        "35"
       ]
      }
     ],
     "prompt_number": 34
    },
    {
     "cell_type": "code",
     "collapsed": false,
     "input": [
      "req_data={\n",
      "          \"cateType\":1,\n",
      "          \"categoryId\":1,\n",
      "          \"level\":1,\n",
      "          \"pageNo\":35,\n",
      "          \"jumpPage\":\"%E9%80%81%E5%87%BA\"}\n",
      "res=requests.post(\"http://210.69.40.134/OpenFront/report/report_result.jsp\",data=req_data)\n",
      "tables=pd.read_html(res.text,attrs={'class':'report_list'})\n",
      "data_table1= [one_table for one_table in tables ]\n",
      "data_table1"
     ],
     "language": "python",
     "metadata": {},
     "outputs": [
      {
       "metadata": {},
       "output_type": "pyout",
       "prompt_number": 50,
       "text": [
        "[                                                   0    1          2     3  \\\n",
        "0  \u6b64\u70ba\u52fe\u9078\u6b64\u9801\u5168\u90e8\u67e5\u8a62\u7d50\u679c\u7684script, \u60a8\u53ef\u4ee5\u81ea\u884c\u52fe\u9078\u60a8\u8981\u7684\u9805\u76ee\u3002  \u6b64\u70ba\u53d6\u6d88\u6b64\u9801\u5168\u90e8\u60a8\u5df2...   \u5e8f\u865f      \u7cfb\u7d71\u8b58\u5225\u865f  \u9ede\u95b1\u6b21\u6578   \n",
        "1                                                NaN  341  C09003034    11   \n",
        "\n",
        "                                                4       5     6  \\\n",
        "0                                     \u8a08\u756b\u540d\u7a31 [\u5831\u544a\u540d\u7a31]    \u51fa\u570b\u4eba\u54e1  \u524d\u5f80\u5730\u5340   \n",
        "1  \u52a0\u62ff\u5927\u8003\u5bdf\u53ca\u89c0\u6469\u5730\u65b9\u5efa\u8a2d.\u89c0\u5149\u5efa\u8a2d\u51fa\u570b\u5831\u544a\u66f8[\u52a0\u62ff\u5927\u8003\u5bdf\u53ca\u89c0\u6469\u5730\u65b9\u5efa\u8a2d.\u89c0\u5149\u5efa\u8a2d\u51fa\u570b\u5831\u544a\u66f8]  \u912d\u6e05\u9716\u7b498\u4eba   \u52a0\u62ff\u5927   \n",
        "\n",
        "                   7          8  \n",
        "0               \u51fa\u570b\u671f\u9593        NaT  \n",
        "1  90/06/19\u81f390/06/27 1990-09-03  \n",
        "\n",
        "[2 rows x 9 columns]]"
       ]
      }
     ],
     "prompt_number": 50
    },
    {
     "cell_type": "code",
     "collapsed": false,
     "input": [
      "import requests\n",
      "import pandas as pd\n",
      "import numpy as np\n",
      "import time\n",
      "import csv\n",
      "\n",
      "\n",
      "caseIDs=[]\n",
      "\n",
      "#\u53d6\u5f97\u9801\u6578 maxPage\n",
      "res=requests.get(\"http://210.69.40.134/OpenFront/report/report_result.jsp?level=1&categoryId=1&cateType=1\")\n",
      "soup = BeautifulSoup(res.text)\n",
      "pageDropdown=soup.find(\"select\", { \"id\" : \"pageNo\" }).find_all(\"option\")\n",
      "maxPage=max([ int(i['value']) for i in pageDropdown])\n",
      "\n",
      "#\u9010\u9801\u53d6\u5f97\u6848\u865f\u4e0b\u8f09\u5b58\u6a94\n",
      "for i in range(1,maxPage+1):\n",
      "    print \"\u53d6\u5f97\u7b2c%s\u9801\" % i\n",
      "    req_data={\n",
      "          \"cateType\":1,\n",
      "          \"categoryId\":1,\n",
      "          \"level\":1,\n",
      "          \"pageNo\":i,\n",
      "          \"jumpPage\":\"%E9%80%81%E5%87%BA\"}\n",
      "    res=requests.post(\"http://210.69.40.134/OpenFront/report/report_result.jsp\",data=req_data)\n",
      "    tables=pd.read_html(res.text,attrs={'class':'report_list'})\n",
      "    data_table1= [one_table for one_table in tables][0]\n",
      "    caseIDs.extend(data_table1.values[1:,2])\n",
      "    print data_table1.values[1:,2]\n",
      "    #print \"\u975c\u5019\u4e94\u79d2\"\n",
      "    #time.sleep(5)\n",
      "caseIDs\n",
      "\n",
      "print \"\u5beb\u5165csv\u6a94\"\n",
      "with open('output.csv', 'w') as fp:\n",
      "    a = csv.writer(fp, delimiter=',')\n",
      "    for caseId in caseIDs: a.writerow([caseId])"
     ],
     "language": "python",
     "metadata": {},
     "outputs": [
      {
       "output_type": "stream",
       "stream": "stdout",
       "text": [
        "\u53d6\u5f97\u7b2c1\u9801\n",
        "[u'C103AV006' u'C103AV005' u'C103AV002' u'C103AV001' u'C103AV004'\n",
        " u'C102AV018' u'C102AV015' u'C102AV022' u'C102AV023' u'C102AV020']"
       ]
      },
      {
       "output_type": "stream",
       "stream": "stdout",
       "text": [
        "\n",
        "\u53d6\u5f97\u7b2c2\u9801\n",
        "[u'C102AV021' u'C102AV019' u'C102AV011' u'C102AV017' u'C102AV006'\n",
        " u'C102AV014' u'C102AV013' u'C102AV010' u'C102AV009' u'C102AV016']"
       ]
      },
      {
       "output_type": "stream",
       "stream": "stdout",
       "text": [
        "\n",
        "\u53d6\u5f97\u7b2c3\u9801\n",
        "[u'C102AV012' u'C102AV008' u'C102AV007' u'C102AV005' u'C102AV003'\n",
        " u'C102AV004' u'C101AV025' u'C102AV002' u'C101AV021' u'C101AV024']"
       ]
      },
      {
       "output_type": "stream",
       "stream": "stdout",
       "text": [
        "\n",
        "\u53d6\u5f97\u7b2c4\u9801\n",
        "[u'C101AV018' u'C102AV001' u'C101AV020' u'C101AV019' u'C101AV023'\n",
        " u'C101AV016' u'C101AV013' u'C101AV012' u'C101AV014' u'C101AV015']"
       ]
      },
      {
       "output_type": "stream",
       "stream": "stdout",
       "text": [
        "\n",
        "\u53d6\u5f97\u7b2c5\u9801\n",
        "[u'C101AV011' u'C101AV022' u'C101AV010' u'C101AV008' u'C101AV007'\n",
        " u'C100AV036' u'C101AV003' u'C101AV006' u'C101AV009' u'C101AV027']"
       ]
      },
      {
       "output_type": "stream",
       "stream": "stdout",
       "text": [
        "\n",
        "\u53d6\u5f97\u7b2c6\u9801\n",
        "[u'C101AV005' u'C100AV038' u'C101AV004' u'C100AV037' u'C100AV032'\n",
        " u'C100AV035' u'C101AV001' u'C101AV002' u'C100AV034' u'C100AV031']"
       ]
      },
      {
       "output_type": "stream",
       "stream": "stdout",
       "text": [
        "\n",
        "\u53d6\u5f97\u7b2c7\u9801\n",
        "[u'C100AV025' u'C101AV017' u'C100AV019' u'C100AV020' u'C100AV027'\n",
        " u'C100AV029' u'C100AV021' u'C100AV026' u'C100AV023' u'C100AV018']"
       ]
      },
      {
       "output_type": "stream",
       "stream": "stdout",
       "text": [
        "\n",
        "\u53d6\u5f97\u7b2c8\u9801\n",
        "[u'C100AV004' u'C100AV015' u'C099AL316' u'C099AL320' u'C099AL317'\n",
        " u'C099AL326' u'C099AV492' u'C099AL323' u'C100AV014' u'C100AV012']"
       ]
      },
      {
       "output_type": "stream",
       "stream": "stdout",
       "text": [
        "\n",
        "\u53d6\u5f97\u7b2c9\u9801\n",
        "[u'C100AV001' u'C100AV005' u'C100AV009' u'C099AV493' u'C100AV003'\n",
        " u'C100AV002' u'C099AV491' u'C099AV489' u'C099AV488' u'C099AL318']"
       ]
      },
      {
       "output_type": "stream",
       "stream": "stdout",
       "text": [
        "\n",
        "\u53d6\u5f97\u7b2c10\u9801\n",
        "[u'C099AL315' u'C099AL311' u'C100AV011' u'C099AL328' u'C099AV490'\n",
        " u'C099AL325' u'C099AL314' u'C099AL310' u'C099AV487' u'C099AV486']"
       ]
      },
      {
       "output_type": "stream",
       "stream": "stdout",
       "text": [
        "\n",
        "\u53d6\u5f97\u7b2c11\u9801\n",
        "[u'C099AV484' u'C099AV485' u'C09902287' u'C099AV483' u'C099AL327'\n",
        " u'C09902292' u'C099AV482' u'C099AV481' u'C099AV480' u'C099AL313']"
       ]
      },
      {
       "output_type": "stream",
       "stream": "stdout",
       "text": [
        "\n",
        "\u53d6\u5f97\u7b2c12\u9801\n",
        "[u'C09902306' u'C09902045' u'C099AL309' u'C09902266' u'C09901528'\n",
        " u'C099AV479' u'C09901727' u'C100AV013' u'C09901474' u'C09901386']"
       ]
      },
      {
       "output_type": "stream",
       "stream": "stdout",
       "text": [
        "\n",
        "\u53d6\u5f97\u7b2c13\u9801\n",
        "[u'C100AV008' u'C09901179' u'C09901299' u'C09901082' u'C09900911'\n",
        " u'C09901001' u'C09901584' u'C100AV006' u'C09804348' u'C09900364']"
       ]
      },
      {
       "output_type": "stream",
       "stream": "stdout",
       "text": [
        "\n",
        "\u53d6\u5f97\u7b2c14\u9801\n",
        "[u'C09804143' u'C09900766' u'C09804142' u'C09804265' u'C09804140'\n",
        " u'C09900179' u'C09804296' u'C09900272' u'C09803773' u'C09803917']"
       ]
      },
      {
       "output_type": "stream",
       "stream": "stdout",
       "text": [
        "\n",
        "\u53d6\u5f97\u7b2c15\u9801\n",
        "[u'C09900322' u'C09804195' u'C09803566' u'C09803821' u'C09803722'\n",
        " u'C09802888' u'C09900269' u'C09900093' u'C09803726' u'C09804295']"
       ]
      },
      {
       "output_type": "stream",
       "stream": "stdout",
       "text": [
        "\n",
        "\u53d6\u5f97\u7b2c16\u9801\n",
        "[u'C09900377' u'C09802846' u'C09802729' u'C09802957' u'C09802697'\n",
        " u'C09900662' u'C09802629' u'C09802345' u'C09803459' u'C09803331']"
       ]
      },
      {
       "output_type": "stream",
       "stream": "stdout",
       "text": [
        "\n",
        "\u53d6\u5f97\u7b2c17\u9801\n",
        "[u'C09801989' u'C09801988' u'C09802288' u'C09802126' u'C09802484'\n",
        " u'C09801570' u'C09801224' u'C09801498' u'C09801789' u'C09802401']"
       ]
      },
      {
       "output_type": "stream",
       "stream": "stdout",
       "text": [
        "\n",
        "\u53d6\u5f97\u7b2c18\u9801\n",
        "[u'C09801587' u'C09801704' u'C09801245' u'C09800883' u'C09800841'\n",
        " u'C09801055' u'C09801404' u'C09800617' u'C09800664' u'C09800526']"
       ]
      },
      {
       "output_type": "stream",
       "stream": "stdout",
       "text": [
        "\n",
        "\u53d6\u5f97\u7b2c19\u9801\n",
        "[u'C09801278' u'C09800918' u'C09801431' u'C09800789' u'C09800756'\n",
        " u'C09800790' u'C09800012' u'C09704316' u'C09800389' u'C09800641']"
       ]
      },
      {
       "output_type": "stream",
       "stream": "stdout",
       "text": [
        "\n",
        "\u53d6\u5f97\u7b2c20\u9801\n",
        "[u'C09704350' u'C09800376' u'C09704202' u'C09800612' u'C09704033'\n",
        " u'C09800561' u'C09800476' u'C09800219' u'C09800173' u'C09704048']"
       ]
      },
      {
       "output_type": "stream",
       "stream": "stdout",
       "text": [
        "\n",
        "\u53d6\u5f97\u7b2c21\u9801\n",
        "[u'C09704030' u'C09703888' u'C09701231' u'C09704078' u'C09703958'\n",
        " u'C09704262' u'C09703020' u'C09702779' u'C09702987' u'C09703940']"
       ]
      },
      {
       "output_type": "stream",
       "stream": "stdout",
       "text": [
        "\n",
        "\u53d6\u5f97\u7b2c22\u9801\n",
        "[u'C09704176' u'C09704000' u'C09703342' u'C09702752' u'C09702368'\n",
        " u'C09702653' u'C09702027' u'C09702957' u'C09701889' u'C09702656']"
       ]
      },
      {
       "output_type": "stream",
       "stream": "stdout",
       "text": [
        "\n",
        "\u53d6\u5f97\u7b2c23\u9801\n",
        "[u'C09702631' u'C09701821' u'C09701895' u'C09700997' u'C09701128'\n",
        " u'C09701146' u'C09700852' u'C09701910' u'C09701386' u'C09700771']"
       ]
      },
      {
       "output_type": "stream",
       "stream": "stdout",
       "text": [
        "\n",
        "\u53d6\u5f97\u7b2c24\u9801\n",
        "[u'C09700428' u'C09603648' u'C09603647' u'C09701394' u'C09702109'\n",
        " u'C09700652' u'C09700274' u'C09700983' u'C09603292' u'C09603158']"
       ]
      },
      {
       "output_type": "stream",
       "stream": "stdout",
       "text": [
        "\n",
        "\u53d6\u5f97\u7b2c25\u9801\n",
        "[u'C09700991' u'C09602175' u'C09602174' u'C09602965' u'C09602173'\n",
        " u'C09603348' u'C09602964' u'C09603662' u'C09603687' u'C09601548']"
       ]
      },
      {
       "output_type": "stream",
       "stream": "stdout",
       "text": [
        "\n",
        "\u53d6\u5f97\u7b2c26\u9801\n",
        "[u'C09601884' u'C09601437' u'C09601496' u'C09601113' u'C09601436'\n",
        " u'C09600865' u'C09601314' u'C09503681' u'C09600097' u'C09503722']"
       ]
      },
      {
       "output_type": "stream",
       "stream": "stdout",
       "text": [
        "\n",
        "\u53d6\u5f97\u7b2c27\u9801\n",
        "[u'C09600246' u'C09600182' u'C09600291' u'C09502644' u'C09503045'\n",
        " u'C09502390' u'C09503630' u'C09502195' u'C09503444' u'C09503242']"
       ]
      },
      {
       "output_type": "stream",
       "stream": "stdout",
       "text": [
        "\n",
        "\u53d6\u5f97\u7b2c28\u9801\n",
        "[u'C09502464' u'C09501827' u'C09502071' u'C09502700' u'C09502275'\n",
        " u'C09502701' u'C09502239' u'C09501571' u'C09502516' u'C09502262']"
       ]
      },
      {
       "output_type": "stream",
       "stream": "stdout",
       "text": [
        "\n",
        "\u53d6\u5f97\u7b2c29\u9801\n",
        "[u'C09502238' u'C09501753' u'C09500937' u'C09500118' u'C09500546'\n",
        " u'C09500519' u'C09500345' u'C09500112' u'C09405019' u'C09403240']"
       ]
      },
      {
       "output_type": "stream",
       "stream": "stdout",
       "text": [
        "\n",
        "\u53d6\u5f97\u7b2c30\u9801\n",
        "[u'C09404886' u'C09404583' u'C09404483' u'C09404111' u'C09403867'\n",
        " u'C09403371' u'C09402747' u'C09402659' u'C09404062' u'C09403891']"
       ]
      },
      {
       "output_type": "stream",
       "stream": "stdout",
       "text": [
        "\n",
        "\u53d6\u5f97\u7b2c31\u9801\n",
        "[u'C09403870' u'C09403888' u'C09402369' u'C09402967' u'C09403424'\n",
        " u'C09403356' u'C09403450' u'C09402612' u'C09401410' u'C09402086']"
       ]
      },
      {
       "output_type": "stream",
       "stream": "stdout",
       "text": [
        "\n",
        "\u53d6\u5f97\u7b2c32\u9801\n",
        "[u'C09305627' u'C09304484' u'C09400375' u'C09400103' u'C09300003'\n",
        " u'C09303639' u'C09304949' u'C09304133' u'C09302109' u'C09303217']"
       ]
      },
      {
       "output_type": "stream",
       "stream": "stdout",
       "text": [
        "\n",
        "\u53d6\u5f97\u7b2c33\u9801\n",
        "[u'C09302773' u'C09302354' u'C09301270' u'C09301248' u'C09300513'\n",
        " u'C09204309' u'C09204122' u'C09203127' u'C09105790' u'C09104928']"
       ]
      },
      {
       "output_type": "stream",
       "stream": "stdout",
       "text": [
        "\n",
        "\u53d6\u5f97\u7b2c34\u9801\n",
        "[u'C09104743' u'C09102991' u'C09102714' u'C09102150' u'C09101093'\n",
        " u'C09100098' u'C09006788' u'C09004879' u'C09004137' u'C09005839']"
       ]
      },
      {
       "output_type": "stream",
       "stream": "stdout",
       "text": [
        "\n",
        "\u53d6\u5f97\u7b2c35\u9801\n",
        "[u'C09003034']"
       ]
      },
      {
       "output_type": "stream",
       "stream": "stdout",
       "text": [
        "\n",
        "\u5beb\u5165csv\u6a94\n"
       ]
      }
     ],
     "prompt_number": 63
    },
    {
     "cell_type": "heading",
     "level": 1,
     "metadata": {},
     "source": [
      "\u53d6\u5f97\u500b\u5225\u6848\u4ef6\u5167\u5bb9"
     ]
    },
    {
     "cell_type": "code",
     "collapsed": false,
     "input": [
      "systemId=\"C103AV005\"\n",
      "res=requests.get(\"http://210.69.40.134/OpenFront/report/report_detail.jsp?sysId=%s\" % systemId)\n",
      "soup = BeautifulSoup(res.text)\n",
      "table=soup.find(\"table\", { \"class\" : \"report_DATAtable\" })\n",
      "table"
     ],
     "language": "python",
     "metadata": {},
     "outputs": [
      {
       "metadata": {},
       "output_type": "pyout",
       "prompt_number": 65,
       "text": [
        "<table border=\"0\" cellpadding=\"0\" cellspacing=\"0\" class=\"report_DATAtable\" summary=\"\u8cc7\u6599\u8868\u683c\">\n",
        "<tr>\n",
        "<th scope=\"row\" width=\"25%\"> \u9ede\u95b1\u6b21\u6578\uff1a </th>\n",
        "<td>75</td>\n",
        "</tr>\n",
        "<tr>\n",
        "<th scope=\"row\" width=\"25%\"> \u7cfb\u7d71\u8b58\u5225\u865f\uff1a </th>\n",
        "<td>C103AV005</td>\n",
        "</tr>\n",
        "<tr>\n",
        "<th scope=\"row\"> \u8a08\u756b\u540d\u7a31 \uff1a</th>\n",
        "<td>\u53c3\u52a0\u7b2c93\u5c46TRB\u5e74\u6703\u66a8\u99ac\u91cc\u862d\u5dde\u8514\u54e5\u99ac\u5229\u90e1\u5de5\u7a0b\u53c3\u8a2a</td>\n",
        "</tr>\n",
        "<tr>\n",
        "<th scope=\"row\"> \u5831\u544a\u540d\u7a31\uff1a </th>\n",
        "<td>\u53c3\u52a0\u7b2c93\u5c46TRB\u5e74\u6703\u66a8\u99ac\u91cc\u862d\u5dde\u8514\u54e5\u99ac\u5229\u90e1\u5de5\u7a0b\u53c3\u8a2a</td>\n",
        "</tr>\n",
        "<tr>\n",
        "<th scope=\"row\"> \u96fb\u5b50\u5168\u6587\u6a94 \uff1a</th>\n",
        "<td>\n",
        "<img align=\"absmiddle\" alt=\"\u6a94\u6848\u683c\u5f0fdoc\" border=\"0\" src=\"../images/FileType/icon_doc.gif\"/><a href=\"show_file.jsp?sysId=C103AV005&amp;fileNo=1\" title=\"\u53e6\u958b\u8996\u7a97\">C103AV005_01.doc</a>\r\n",
        "    \r\n",
        "    \u00a0</td>\n",
        "</tr>\n",
        "<tr>\n",
        "<th scope=\"row\">\u9644\u4ef6\u6a94\uff1a</th>\n",
        "<td>\r\n",
        "    \u00a0\n",
        "\r\n",
        "  </td>\n",
        "</tr>\n",
        "<tr>\n",
        "<th scope=\"row\"> \u8a08\u756b\u4e3b\u8fa6\u6a5f\u95dc\uff1a</th>\n",
        "<td>\u81fa\u5357\u5e02\u653f\u5e9c\u00a0</td>\n",
        "</tr>\n",
        "<tr>\n",
        "<th scope=\"row\"> \u8a08\u5283\u4e3b\u8fa6\u6a5f\u95dc\u7db2\u7ad9\u9996\u9801\uff1a</th>\n",
        "<td>\r\n",
        "    \u00a0</td>\n",
        "</tr>\n",
        "<tr>\n",
        "<th scope=\"row\"> \u51fa\u570b\u4eba\u54e1\uff1a</th>\n",
        "<td>\n",
        "<table border=\"0\" cellpadding=\"0\" cellspacing=\"0\" class=\"simple_form2\" summary=\"\u8868\u683c\u8cc7\u6599\">\n",
        "<caption align=\"left\">\u51fa\u570b\u4eba\u54e1\u540d\u55ae</caption>\n",
        "<tr align=\"center\">\n",
        "<th nowrap=\"\" scope=\"col\"> \u59d3\u540d </th>\n",
        "<th nowrap=\"\" scope=\"col\"> \u670d\u52d9\u6a5f\u95dc</th>\n",
        "<th nowrap=\"\" scope=\"col\"> \u670d\u52d9\u55ae\u4f4d</th>\n",
        "<th nowrap=\"\" scope=\"col\"> \u8077\u7a31</th>\n",
        "<th nowrap=\"\" scope=\"col\"> \u5b98\u8077\u7b49 </th>\n",
        "</tr>\n",
        "<tr>\n",
        "<td>\u5433\u5b97\u69ae</td>\n",
        "<td>\u81fa\u5357\u5e02\u653f\u5e9c</td>\n",
        "<td>\u5de5\u52d9\u5c40</td>\n",
        "<td>\u5c40\u9577</td>\n",
        "<td>\u7c21\u4efb(\u6d3e)</td>\n",
        "<td>\u00a0</td>\n",
        "</tr>\n",
        "<tr>\n",
        "<td>\u937e\u5357\u8c6a</td>\n",
        "<td>\u81fa\u5357\u5e02\u653f\u5e9c</td>\n",
        "<td>\u5de5\u52d9\u5c40</td>\n",
        "<td>\u79d1\u9577</td>\n",
        "<td>\u85a6\u4efb(\u6d3e)</td>\n",
        "<td>\u00a0</td>\n",
        "</tr>\n",
        "<tr>\n",
        "<td>\u9ec3\u74ca\u5100</td>\n",
        "<td>\u81fa\u5357\u5e02\u653f\u5e9c</td>\n",
        "<td>\u5de5\u52d9\u5c40</td>\n",
        "<td>\u6a5f\u8981\u79d8\u66f8</td>\n",
        "<td>\u85a6\u4efb(\u6d3e)</td>\n",
        "<td>\u00a0</td>\n",
        "</tr>\n",
        "<tr>\n",
        "<td>\u6797\u7389\u8339</td>\n",
        "<td>\u81fa\u5357\u5e02\u653f\u5e9c</td>\n",
        "<td>\u5de5\u52d9\u5c40</td>\n",
        "<td>\u6b63\u5de5\u7a0b\u53f8</td>\n",
        "<td>\u85a6\u4efb(\u6d3e)</td>\n",
        "<td>\u00a0</td>\n",
        "</tr>\n",
        "<tr>\n",
        "<td>\u9ec3\u90c1\u8aa0</td>\n",
        "<td>\u81fa\u5357\u5e02\u653f\u5e9c</td>\n",
        "<td></td>\n",
        "<td>\u5e6b\u5de5\u7a0b\u53f8</td>\n",
        "<td>\u85a6\u4efb(\u6d3e)</td>\n",
        "<td>\u00a0</td>\n",
        "</tr>\n",
        "</table>\n",
        "</td>\n",
        "</tr>\n",
        "<tr>\n",
        "<th scope=\"row\"> \u524d\u5f80\u5730\u5340\uff1a</th>\n",
        "<td>\u7f8e\u570b</td>\n",
        "</tr>\n",
        "<tr>\n",
        "<th scope=\"row\"> \u53c3\u8a2a\u6a5f\u95dc\uff1a</th>\n",
        "<td>\u7f8e\u570b\u99ac\u91cc\u862d\u5dde\u8499\u54e5\u99ac\u5229\u4ea4\u901a\u5c40\u00a0</td>\n",
        "</tr>\n",
        "<tr>\n",
        "<th scope=\"row\"> \u51fa\u570b\u985e\u5225\uff1a</th>\n",
        "<td>\u5176\u4ed6(\u53c3\u8a2a)\uff08\u5176\u4ed6\u985e\u5225\u4e4b\u51fa\u570b\u5831\u544a\u4fc2\u4f9d\u5404\u6a5f\u95dc\u81ea\u8a02\u7ba1\u7406\u65b9\u5f0f\u8655\u7406\uff09</td>\n",
        "</tr>\n",
        "<tr>\n",
        "<th> \u51fa\u570b\u671f\u9593\uff1a</th>\n",
        "<td>\u6c11\u570b103\u5e7401\u670811\u65e5\u00a0\u81f3\u00a0\u6c11\u570b103\u5e7401\u670818\u65e5</td>\n",
        "</tr>\n",
        "<tr>\n",
        "<th> \u5099\u8a3b\uff1a </th>\n",
        "<td>\u00a0</td>\n",
        "</tr>\n",
        "<tr>\n",
        "<th scope=\"row\"> \u5831\u544a\u65e5\u671f\uff1a </th>\n",
        "<td>\u6c11\u570b103\u5e7403\u670810\u65e5\u00a0</td>\n",
        "</tr>\n",
        "<tr>\n",
        "<th scope=\"row\"> \u4e3b\u984c\u5206\u985e\uff1a </th>\n",
        "<td>\u4ea4\u901a\u5efa\u8a2d\u00a0</td>\n",
        "</tr>\n",
        "<tr>\n",
        "<th scope=\"row\"> \u65bd\u653f\u5206\u985e\uff1a </th>\n",
        "<td>\u4ea4\u901a\u53ca\u5efa\u8a2d\u00a0</td>\n",
        "</tr>\n",
        "<tr>\n",
        "<th scope=\"row\"> \u95dc\u9375\u8a5e\uff1a </th>\n",
        "<td>TRB\uff0cPSI\uff0c\u8499\u54e5\u99ac\u5229\u90e1\u4ea4\u901a\u5c40\uff0c\u83ef\u76db\u9813DC\u00a0</td>\n",
        "</tr>\n",
        "<tr>\n",
        "<th scope=\"row\"> \u5831\u544a\u66f8\u9801\u6578\uff1a </th>\n",
        "<td>42\u9801</td>\n",
        "</tr>\n",
        "<tr>\n",
        "<th scope=\"row\"> \u5831\u544a\u5167\u5bb9\u6458\u8981\uff1a </th>\n",
        "<td>\u70ba\u53c3\u8003\u5168\u7403\u6700\u65b0\u7684\u9053\u8def\u5de5\u7a0b\u76f8\u95dc\u4e4b\u6280\u8853\u3001\u92ea\u9762\u6750\u6599\u61c9\u7528\u3001\u9053\u8def\u4f5c\u696d\u5148\u671f\u898f\u5283\u3001\u5de5\u7a0b\u65bd\u5de5\u54c1\u8cea\u7ba1\u7406\u7b49\u5404\u9762\u5411\uff0c\u4ee5\u53ca\u53c3\u8003\u5148\u9032\u570b\u5bb6\u76ee\u524d\u4f7f\u7528\u4e4b\u884c\u653f\u7a0b\u5e8f\u3001\u767c\u5305\u5236\u5ea6\u53ca\u6a5f\u5177\u7ba1\u7406\uff0c\u672c\u5c40\u9042\u7d93\u7c3d\u5949\u6838\u51c6\u5f8c\u6d3e\u54e1\u53c3\u52a0TRB\u7b2c93\u5c46\u5e74\u6703\uff0c\u4e26\u5b89\u6392\u4e86\u524d\u5f80\u7f8e\u570b\u99ac\u91cc\u862d\u5dde\u8499\u54e5\u99ac\u5229\u90e1\u4ea4\u901a\u5c40\u4e4b\u53c3\u8a2a1\u65e5\uff0c\u4ee5\u53ca\u5728\u83ef\u76db\u9813\u7279\u5340\u627f\u652c\u9053\u8def\u5de5\u7a0b\u898f\u5283\u8a2d\u8a08\u517730\u5e74\u6b77\u53f2\u4e4b\u5de5\u7a0b\u9867\u554f\u516c\u53f8PSI\u4e4b\u53c3\u8a2a1\u65e5\uff0c\u671f\u80fd\u7d93\u7531\u53c3\u8a2a\u3001\u4ea4\u6d41\uff0c\u5b78\u7fd2\uff0c\u9054\u5230\u63d0\u5347\u672c\u5c40\u9053\u8def\u5de5\u7a0b\u76f8\u95dc\u5b78\u8b58\uff0c\u5c0e\u5165\u6700\u65b0\u5de5\u7a0b\u65bd\u5de5\u53ca\u7ba1\u7406\u6280\u8853\uff0c\u6700\u7d42\u63d0\u5347\u5de5\u7a0b\u54c1\u8cea\u7684\u76ee\u6a19\u3002\u00a0</td>\n",
        "</tr>\n",
        "</table>"
       ]
      }
     ],
     "prompt_number": 65
    },
    {
     "cell_type": "code",
     "collapsed": false,
     "input": [
      "import os.path\n",
      "processed=1\n",
      "for systemId in caseIDs:\n",
      "    filename='do_tainan/%s.txt' % systemId\n",
      "    if os.path.isfile(filename):\n",
      "        print \"\u5df2\u6709{0}({1}/{2})\".format(filename, processed, len(caseIDs))\n",
      "    else:\n",
      "        print \"\u6b63\u5728\u8655\u7406{0}({1}/{2})\" .format(str(systemId),processed, len(caseIDs))\n",
      "        res=requests.get(\"http://210.69.40.134/OpenFront/report/report_detail.jsp?sysId=%s\" % systemId)\n",
      "        soup = BeautifulSoup(res.text)\n",
      "        table=soup.find(\"table\", { \"class\" : \"report_DATAtable\" })\n",
      "        with open( filename, 'w') as myFile:\n",
      "            myFile.write(table.prettify(\"utf-8\"))\n",
      "        # print \"\u975c\u5019\u4e94\u79d2\"\n",
      "        # time.sleep(5)\n",
      "    processed+=1"
     ],
     "language": "python",
     "metadata": {},
     "outputs": [
      {
       "output_type": "stream",
       "stream": "stdout",
       "text": [
        "\u5df2\u6709do_tainan/C103AV006.txt(0/341)\n",
        "\u5df2\u6709do_tainan/C103AV005.txt(1/341)\n",
        "\u5df2\u6709do_tainan/C103AV002.txt(2/341)\n",
        "\u5df2\u6709do_tainan/C103AV001.txt(3/341)\n",
        "\u5df2\u6709do_tainan/C103AV004.txt(4/341)\n",
        "\u5df2\u6709do_tainan/C102AV018.txt(5/341)\n",
        "\u5df2\u6709do_tainan/C102AV015.txt(6/341)\n",
        "\u5df2\u6709do_tainan/C102AV022.txt(7/341)\n",
        "\u5df2\u6709do_tainan/C102AV023.txt(8/341)\n",
        "\u5df2\u6709do_tainan/C102AV020.txt(9/341)\n",
        "\u5df2\u6709do_tainan/C102AV021.txt(10/341)\n",
        "\u5df2\u6709do_tainan/C102AV019.txt(11/341)\n",
        "\u5df2\u6709do_tainan/C102AV011.txt(12/341)\n",
        "\u5df2\u6709do_tainan/C102AV017.txt(13/341)\n",
        "\u5df2\u6709do_tainan/C102AV006.txt(14/341)\n",
        "\u5df2\u6709do_tainan/C102AV014.txt(15/341)\n",
        "\u5df2\u6709do_tainan/C102AV013.txt(16/341)\n",
        "\u5df2\u6709do_tainan/C102AV010.txt(17/341)\n",
        "\u5df2\u6709do_tainan/C102AV009.txt(18/341)\n",
        "\u5df2\u6709do_tainan/C102AV016.txt(19/341)\n",
        "\u5df2\u6709do_tainan/C102AV012.txt(20/341)\n",
        "\u5df2\u6709do_tainan/C102AV008.txt(21/341)\n",
        "\u5df2\u6709do_tainan/C102AV007.txt(22/341)\n",
        "\u5df2\u6709do_tainan/C102AV005.txt(23/341)\n",
        "\u5df2\u6709do_tainan/C102AV003.txt(24/341)\n",
        "\u5df2\u6709do_tainan/C102AV004.txt(25/341)\n",
        "\u5df2\u6709do_tainan/C101AV025.txt(26/341)\n",
        "\u5df2\u6709do_tainan/C102AV002.txt(27/341)\n",
        "\u5df2\u6709do_tainan/C101AV021.txt(28/341)\n",
        "\u5df2\u6709do_tainan/C101AV024.txt(29/341)\n",
        "\u5df2\u6709do_tainan/C101AV018.txt(30/341)\n",
        "\u5df2\u6709do_tainan/C102AV001.txt(31/341)\n",
        "\u5df2\u6709do_tainan/C101AV020.txt(32/341)\n",
        "\u5df2\u6709do_tainan/C101AV019.txt(33/341)\n",
        "\u5df2\u6709do_tainan/C101AV023.txt(34/341)\n",
        "\u5df2\u6709do_tainan/C101AV016.txt(35/341)\n",
        "\u5df2\u6709do_tainan/C101AV013.txt(36/341)\n",
        "\u5df2\u6709do_tainan/C101AV012.txt(37/341)\n",
        "\u5df2\u6709do_tainan/C101AV014.txt(38/341)\n",
        "\u5df2\u6709do_tainan/C101AV015.txt(39/341)\n",
        "\u5df2\u6709do_tainan/C101AV011.txt(40/341)\n",
        "\u5df2\u6709do_tainan/C101AV022.txt(41/341)\n",
        "\u5df2\u6709do_tainan/C101AV010.txt(42/341)\n",
        "\u5df2\u6709do_tainan/C101AV008.txt(43/341)\n",
        "\u5df2\u6709do_tainan/C101AV007.txt(44/341)\n",
        "\u5df2\u6709do_tainan/C100AV036.txt(45/341)\n",
        "\u5df2\u6709do_tainan/C101AV003.txt(46/341)\n",
        "\u5df2\u6709do_tainan/C101AV006.txt(47/341)\n",
        "\u5df2\u6709do_tainan/C101AV009.txt(48/341)\n",
        "\u5df2\u6709do_tainan/C101AV027.txt(49/341)\n",
        "\u5df2\u6709do_tainan/C101AV005.txt(50/341)\n",
        "\u5df2\u6709do_tainan/C100AV038.txt(51/341)\n",
        "\u5df2\u6709do_tainan/C101AV004.txt(52/341)\n",
        "\u5df2\u6709do_tainan/C100AV037.txt(53/341)\n",
        "\u5df2\u6709do_tainan/C100AV032.txt(54/341)\n",
        "\u5df2\u6709do_tainan/C100AV035.txt(55/341)\n",
        "\u5df2\u6709do_tainan/C101AV001.txt(56/341)\n",
        "\u5df2\u6709do_tainan/C101AV002.txt(57/341)\n",
        "\u5df2\u6709do_tainan/C100AV034.txt(58/341)\n",
        "\u5df2\u6709do_tainan/C100AV031.txt(59/341)\n",
        "\u5df2\u6709do_tainan/C100AV025.txt(60/341)\n",
        "\u5df2\u6709do_tainan/C101AV017.txt(61/341)\n",
        "\u5df2\u6709do_tainan/C100AV019.txt(62/341)\n",
        "\u5df2\u6709do_tainan/C100AV020.txt(63/341)\n",
        "\u5df2\u6709do_tainan/C100AV027.txt(64/341)\n",
        "\u5df2\u6709do_tainan/C100AV029.txt(65/341)\n",
        "\u5df2\u6709do_tainan/C100AV021.txt(66/341)\n",
        "\u5df2\u6709do_tainan/C100AV026.txt(67/341)\n",
        "\u5df2\u6709do_tainan/C100AV023.txt(68/341)\n",
        "\u5df2\u6709do_tainan/C100AV018.txt(69/341)\n",
        "\u5df2\u6709do_tainan/C100AV004.txt(70/341)\n",
        "\u5df2\u6709do_tainan/C100AV015.txt(71/341)\n",
        "\u5df2\u6709do_tainan/C099AL316.txt(72/341)\n",
        "\u5df2\u6709do_tainan/C099AL320.txt(73/341)\n",
        "\u5df2\u6709do_tainan/C099AL317.txt(74/341)\n",
        "\u5df2\u6709do_tainan/C099AL326.txt(75/341)\n",
        "\u5df2\u6709do_tainan/C099AV492.txt(76/341)\n",
        "\u5df2\u6709do_tainan/C099AL323.txt(77/341)\n",
        "\u5df2\u6709do_tainan/C100AV014.txt(78/341)\n",
        "\u5df2\u6709do_tainan/C100AV012.txt(79/341)\n",
        "\u5df2\u6709do_tainan/C100AV001.txt(80/341)\n",
        "\u5df2\u6709do_tainan/C100AV005.txt(81/341)\n",
        "\u5df2\u6709do_tainan/C100AV009.txt(82/341)\n",
        "\u5df2\u6709do_tainan/C099AV493.txt(83/341)\n",
        "\u5df2\u6709do_tainan/C100AV003.txt(84/341)\n",
        "\u5df2\u6709do_tainan/C100AV002.txt(85/341)\n",
        "\u5df2\u6709do_tainan/C099AV491.txt(86/341)\n",
        "\u5df2\u6709do_tainan/C099AV489.txt(87/341)\n",
        "\u5df2\u6709do_tainan/C099AV488.txt(88/341)\n",
        "\u5df2\u6709do_tainan/C099AL318.txt(89/341)\n",
        "\u5df2\u6709do_tainan/C099AL315.txt(90/341)\n",
        "\u5df2\u6709do_tainan/C099AL311.txt(91/341)\n",
        "\u5df2\u6709do_tainan/C100AV011.txt(92/341)\n",
        "\u5df2\u6709do_tainan/C099AL328.txt(93/341)\n",
        "\u5df2\u6709do_tainan/C099AV490.txt(94/341)\n",
        "\u5df2\u6709do_tainan/C099AL325.txt(95/341)\n",
        "\u5df2\u6709do_tainan/C099AL314.txt(96/341)\n",
        "\u5df2\u6709do_tainan/C099AL310.txt(97/341)\n",
        "\u5df2\u6709do_tainan/C099AV487.txt(98/341)\n",
        "\u5df2\u6709do_tainan/C099AV486.txt(99/341)\n",
        "\u5df2\u6709do_tainan/C099AV484.txt(100/341)\n",
        "\u5df2\u6709do_tainan/C099AV485.txt(101/341)\n",
        "\u5df2\u6709do_tainan/C09902287.txt(102/341)\n",
        "\u5df2\u6709do_tainan/C099AV483.txt(103/341)\n",
        "\u5df2\u6709do_tainan/C099AL327.txt(104/341)\n",
        "\u5df2\u6709do_tainan/C09902292.txt(105/341)\n",
        "\u5df2\u6709do_tainan/C099AV482.txt(106/341)\n",
        "\u5df2\u6709do_tainan/C099AV481.txt(107/341)\n",
        "\u5df2\u6709do_tainan/C099AV480.txt(108/341)\n",
        "\u5df2\u6709do_tainan/C099AL313.txt(109/341)\n",
        "\u5df2\u6709do_tainan/C09902306.txt(110/341)\n",
        "\u5df2\u6709do_tainan/C09902045.txt(111/341)\n",
        "\u5df2\u6709do_tainan/C099AL309.txt(112/341)\n",
        "\u5df2\u6709do_tainan/C09902266.txt(113/341)\n",
        "\u5df2\u6709do_tainan/C09901528.txt(114/341)\n",
        "\u5df2\u6709do_tainan/C099AV479.txt(115/341)\n",
        "\u5df2\u6709do_tainan/C09901727.txt(116/341)\n",
        "\u5df2\u6709do_tainan/C100AV013.txt(117/341)\n",
        "\u5df2\u6709do_tainan/C09901474.txt(118/341)\n",
        "\u5df2\u6709do_tainan/C09901386.txt(119/341)\n",
        "\u5df2\u6709do_tainan/C100AV008.txt(120/341)\n",
        "\u5df2\u6709do_tainan/C09901179.txt(121/341)\n",
        "\u5df2\u6709do_tainan/C09901299.txt(122/341)\n",
        "\u5df2\u6709do_tainan/C09901082.txt(123/341)\n",
        "\u5df2\u6709do_tainan/C09900911.txt(124/341)\n",
        "\u5df2\u6709do_tainan/C09901001.txt(125/341)\n",
        "\u5df2\u6709do_tainan/C09901584.txt(126/341)\n",
        "\u5df2\u6709do_tainan/C100AV006.txt(127/341)\n",
        "\u5df2\u6709do_tainan/C09804348.txt(128/341)\n",
        "\u5df2\u6709do_tainan/C09900364.txt(129/341)\n",
        "\u5df2\u6709do_tainan/C09804143.txt(130/341)\n",
        "\u5df2\u6709do_tainan/C09900766.txt(131/341)\n",
        "\u5df2\u6709do_tainan/C09804142.txt(132/341)\n",
        "\u5df2\u6709do_tainan/C09804265.txt(133/341)\n",
        "\u5df2\u6709do_tainan/C09804140.txt(134/341)\n",
        "\u5df2\u6709do_tainan/C09900179.txt(135/341)\n",
        "\u5df2\u6709do_tainan/C09804296.txt(136/341)\n",
        "\u5df2\u6709do_tainan/C09900272.txt(137/341)\n",
        "\u5df2\u6709do_tainan/C09803773.txt(138/341)\n",
        "\u5df2\u6709do_tainan/C09803917.txt(139/341)\n",
        "\u5df2\u6709do_tainan/C09900322.txt(140/341)\n",
        "\u5df2\u6709do_tainan/C09804195.txt(141/341)\n",
        "\u5df2\u6709do_tainan/C09803566.txt(142/341)\n",
        "\u5df2\u6709do_tainan/C09803821.txt(143/341)\n",
        "\u5df2\u6709do_tainan/C09803722.txt(144/341)\n",
        "\u5df2\u6709do_tainan/C09802888.txt(145/341)\n",
        "\u5df2\u6709do_tainan/C09900269.txt(146/341)\n",
        "\u5df2\u6709do_tainan/C09900093.txt(147/341)\n",
        "\u5df2\u6709do_tainan/C09803726.txt(148/341)\n",
        "\u5df2\u6709do_tainan/C09804295.txt(149/341)\n",
        "\u5df2\u6709do_tainan/C09900377.txt(150/341)\n",
        "\u5df2\u6709do_tainan/C09802846.txt(151/341)\n",
        "\u5df2\u6709do_tainan/C09802729.txt(152/341)\n",
        "\u5df2\u6709do_tainan/C09802957.txt(153/341)\n",
        "\u5df2\u6709do_tainan/C09802697.txt(154/341)\n",
        "\u5df2\u6709do_tainan/C09900662.txt(155/341)\n",
        "\u5df2\u6709do_tainan/C09802629.txt(156/341)\n",
        "\u5df2\u6709do_tainan/C09802345.txt(157/341)\n",
        "\u5df2\u6709do_tainan/C09803459.txt(158/341)\n",
        "\u5df2\u6709do_tainan/C09803331.txt(159/341)\n",
        "\u5df2\u6709do_tainan/C09801989.txt(160/341)\n",
        "\u5df2\u6709do_tainan/C09801988.txt(161/341)\n",
        "\u5df2\u6709do_tainan/C09802288.txt(162/341)\n",
        "\u5df2\u6709do_tainan/C09802126.txt(163/341)\n",
        "\u5df2\u6709do_tainan/C09802484.txt(164/341)\n",
        "\u5df2\u6709do_tainan/C09801570.txt(165/341)\n",
        "\u5df2\u6709do_tainan/C09801224.txt(166/341)\n",
        "\u5df2\u6709do_tainan/C09801498.txt(167/341)\n",
        "\u5df2\u6709do_tainan/C09801789.txt(168/341)\n",
        "\u5df2\u6709do_tainan/C09802401.txt(169/341)\n",
        "\u5df2\u6709do_tainan/C09801587.txt(170/341)\n",
        "\u5df2\u6709do_tainan/C09801704.txt(171/341)\n",
        "\u5df2\u6709do_tainan/C09801245.txt(172/341)\n",
        "\u5df2\u6709do_tainan/C09800883.txt(173/341)\n",
        "\u5df2\u6709do_tainan/C09800841.txt(174/341)\n",
        "\u5df2\u6709do_tainan/C09801055.txt(175/341)\n",
        "\u5df2\u6709do_tainan/C09801404.txt(176/341)\n",
        "\u5df2\u6709do_tainan/C09800617.txt(177/341)\n",
        "\u5df2\u6709do_tainan/C09800664.txt(178/341)\n",
        "\u5df2\u6709do_tainan/C09800526.txt(179/341)\n",
        "\u5df2\u6709do_tainan/C09801278.txt(180/341)\n",
        "\u5df2\u6709do_tainan/C09800918.txt(181/341)\n",
        "\u5df2\u6709do_tainan/C09801431.txt(182/341)\n",
        "\u5df2\u6709do_tainan/C09800789.txt(183/341)\n",
        "\u5df2\u6709do_tainan/C09800756.txt(184/341)\n",
        "\u5df2\u6709do_tainan/C09800790.txt(185/341)\n",
        "\u5df2\u6709do_tainan/C09800012.txt(186/341)\n",
        "\u5df2\u6709do_tainan/C09704316.txt(187/341)\n",
        "\u5df2\u6709do_tainan/C09800389.txt(188/341)\n",
        "\u5df2\u6709do_tainan/C09800641.txt(189/341)\n",
        "\u5df2\u6709do_tainan/C09704350.txt(190/341)\n",
        "\u5df2\u6709do_tainan/C09800376.txt(191/341)\n",
        "\u5df2\u6709do_tainan/C09704202.txt(192/341)\n",
        "\u5df2\u6709do_tainan/C09800612.txt(193/341)\n",
        "\u5df2\u6709do_tainan/C09704033.txt(194/341)\n",
        "\u5df2\u6709do_tainan/C09800561.txt(195/341)\n",
        "\u5df2\u6709do_tainan/C09800476.txt(196/341)\n",
        "\u5df2\u6709do_tainan/C09800219.txt(197/341)\n",
        "\u5df2\u6709do_tainan/C09800173.txt(198/341)\n",
        "\u5df2\u6709do_tainan/C09704048.txt(199/341)\n",
        "\u5df2\u6709do_tainan/C09704030.txt(200/341)\n",
        "\u5df2\u6709do_tainan/C09703888.txt(201/341)\n",
        "\u5df2\u6709do_tainan/C09701231.txt(202/341)\n",
        "\u5df2\u6709do_tainan/C09704078.txt(203/341)\n",
        "\u5df2\u6709do_tainan/C09703958.txt(204/341)\n",
        "\u5df2\u6709do_tainan/C09704262.txt(205/341)\n",
        "\u5df2\u6709do_tainan/C09703020.txt(206/341)\n",
        "\u5df2\u6709do_tainan/C09702779.txt(207/341)\n",
        "\u5df2\u6709do_tainan/C09702987.txt(208/341)\n",
        "\u6b63\u5728\u8655\u7406C09703940(209/341)\n",
        "\u6b63\u5728\u8655\u7406C09704176(210/341)"
       ]
      },
      {
       "output_type": "stream",
       "stream": "stdout",
       "text": [
        "\n",
        "\u6b63\u5728\u8655\u7406C09704000(211/341)"
       ]
      },
      {
       "output_type": "stream",
       "stream": "stdout",
       "text": [
        "\n",
        "\u6b63\u5728\u8655\u7406C09703342(212/341)"
       ]
      },
      {
       "output_type": "stream",
       "stream": "stdout",
       "text": [
        "\n",
        "\u6b63\u5728\u8655\u7406C09702752(213/341)"
       ]
      },
      {
       "output_type": "stream",
       "stream": "stdout",
       "text": [
        "\n",
        "\u6b63\u5728\u8655\u7406C09702368(214/341)"
       ]
      },
      {
       "output_type": "stream",
       "stream": "stdout",
       "text": [
        "\n",
        "\u6b63\u5728\u8655\u7406C09702653(215/341)"
       ]
      },
      {
       "output_type": "stream",
       "stream": "stdout",
       "text": [
        "\n",
        "\u6b63\u5728\u8655\u7406C09702027(216/341)"
       ]
      },
      {
       "output_type": "stream",
       "stream": "stdout",
       "text": [
        "\n",
        "\u6b63\u5728\u8655\u7406C09702957(217/341)"
       ]
      },
      {
       "output_type": "stream",
       "stream": "stdout",
       "text": [
        "\n",
        "\u6b63\u5728\u8655\u7406C09701889(218/341)"
       ]
      },
      {
       "output_type": "stream",
       "stream": "stdout",
       "text": [
        "\n",
        "\u6b63\u5728\u8655\u7406C09702656(219/341)"
       ]
      },
      {
       "output_type": "stream",
       "stream": "stdout",
       "text": [
        "\n",
        "\u6b63\u5728\u8655\u7406C09702631(220/341)"
       ]
      },
      {
       "output_type": "stream",
       "stream": "stdout",
       "text": [
        "\n",
        "\u6b63\u5728\u8655\u7406C09701821(221/341)"
       ]
      },
      {
       "output_type": "stream",
       "stream": "stdout",
       "text": [
        "\n",
        "\u6b63\u5728\u8655\u7406C09701895(222/341)"
       ]
      },
      {
       "output_type": "stream",
       "stream": "stdout",
       "text": [
        "\n",
        "\u6b63\u5728\u8655\u7406C09700997(223/341)"
       ]
      },
      {
       "output_type": "stream",
       "stream": "stdout",
       "text": [
        "\n",
        "\u6b63\u5728\u8655\u7406C09701128(224/341)"
       ]
      },
      {
       "output_type": "stream",
       "stream": "stdout",
       "text": [
        "\n",
        "\u6b63\u5728\u8655\u7406C09701146(225/341)"
       ]
      },
      {
       "output_type": "stream",
       "stream": "stdout",
       "text": [
        "\n",
        "\u6b63\u5728\u8655\u7406C09700852(226/341)"
       ]
      },
      {
       "output_type": "stream",
       "stream": "stdout",
       "text": [
        "\n",
        "\u6b63\u5728\u8655\u7406C09701910(227/341)"
       ]
      },
      {
       "output_type": "stream",
       "stream": "stdout",
       "text": [
        "\n",
        "\u6b63\u5728\u8655\u7406C09701386(228/341)"
       ]
      },
      {
       "output_type": "stream",
       "stream": "stdout",
       "text": [
        "\n",
        "\u6b63\u5728\u8655\u7406C09700771(229/341)"
       ]
      },
      {
       "output_type": "stream",
       "stream": "stdout",
       "text": [
        "\n",
        "\u6b63\u5728\u8655\u7406C09700428(230/341)"
       ]
      },
      {
       "output_type": "stream",
       "stream": "stdout",
       "text": [
        "\n",
        "\u6b63\u5728\u8655\u7406C09603648(231/341)"
       ]
      },
      {
       "output_type": "stream",
       "stream": "stdout",
       "text": [
        "\n",
        "\u6b63\u5728\u8655\u7406C09603647(232/341)"
       ]
      },
      {
       "output_type": "stream",
       "stream": "stdout",
       "text": [
        "\n",
        "\u6b63\u5728\u8655\u7406C09701394(233/341)"
       ]
      },
      {
       "output_type": "stream",
       "stream": "stdout",
       "text": [
        "\n",
        "\u6b63\u5728\u8655\u7406C09702109(234/341)"
       ]
      },
      {
       "output_type": "stream",
       "stream": "stdout",
       "text": [
        "\n",
        "\u6b63\u5728\u8655\u7406C09700652(235/341)"
       ]
      },
      {
       "output_type": "stream",
       "stream": "stdout",
       "text": [
        "\n",
        "\u6b63\u5728\u8655\u7406C09700274(236/341)"
       ]
      },
      {
       "output_type": "stream",
       "stream": "stdout",
       "text": [
        "\n",
        "\u6b63\u5728\u8655\u7406C09700983(237/341)"
       ]
      },
      {
       "output_type": "stream",
       "stream": "stdout",
       "text": [
        "\n",
        "\u6b63\u5728\u8655\u7406C09603292(238/341)"
       ]
      },
      {
       "output_type": "stream",
       "stream": "stdout",
       "text": [
        "\n",
        "\u6b63\u5728\u8655\u7406C09603158(239/341)"
       ]
      },
      {
       "output_type": "stream",
       "stream": "stdout",
       "text": [
        "\n",
        "\u6b63\u5728\u8655\u7406C09700991(240/341)"
       ]
      },
      {
       "output_type": "stream",
       "stream": "stdout",
       "text": [
        "\n",
        "\u6b63\u5728\u8655\u7406C09602175(241/341)"
       ]
      },
      {
       "output_type": "stream",
       "stream": "stdout",
       "text": [
        "\n",
        "\u6b63\u5728\u8655\u7406C09602174(242/341)"
       ]
      },
      {
       "output_type": "stream",
       "stream": "stdout",
       "text": [
        "\n",
        "\u6b63\u5728\u8655\u7406C09602965(243/341)"
       ]
      },
      {
       "output_type": "stream",
       "stream": "stdout",
       "text": [
        "\n",
        "\u6b63\u5728\u8655\u7406C09602173(244/341)"
       ]
      },
      {
       "output_type": "stream",
       "stream": "stdout",
       "text": [
        "\n",
        "\u6b63\u5728\u8655\u7406C09603348(245/341)"
       ]
      },
      {
       "output_type": "stream",
       "stream": "stdout",
       "text": [
        "\n",
        "\u6b63\u5728\u8655\u7406C09602964(246/341)"
       ]
      },
      {
       "output_type": "stream",
       "stream": "stdout",
       "text": [
        "\n",
        "\u6b63\u5728\u8655\u7406C09603662(247/341)"
       ]
      },
      {
       "output_type": "stream",
       "stream": "stdout",
       "text": [
        "\n",
        "\u6b63\u5728\u8655\u7406C09603687(248/341)"
       ]
      },
      {
       "output_type": "stream",
       "stream": "stdout",
       "text": [
        "\n",
        "\u6b63\u5728\u8655\u7406C09601548(249/341)"
       ]
      },
      {
       "output_type": "stream",
       "stream": "stdout",
       "text": [
        "\n",
        "\u6b63\u5728\u8655\u7406C09601884(250/341)"
       ]
      },
      {
       "output_type": "stream",
       "stream": "stdout",
       "text": [
        "\n",
        "\u6b63\u5728\u8655\u7406C09601437(251/341)"
       ]
      },
      {
       "output_type": "stream",
       "stream": "stdout",
       "text": [
        "\n",
        "\u6b63\u5728\u8655\u7406C09601496(252/341)"
       ]
      },
      {
       "output_type": "stream",
       "stream": "stdout",
       "text": [
        "\n",
        "\u6b63\u5728\u8655\u7406C09601113(253/341)"
       ]
      },
      {
       "output_type": "stream",
       "stream": "stdout",
       "text": [
        "\n",
        "\u6b63\u5728\u8655\u7406C09601436(254/341)"
       ]
      },
      {
       "output_type": "stream",
       "stream": "stdout",
       "text": [
        "\n",
        "\u6b63\u5728\u8655\u7406C09600865(255/341)"
       ]
      },
      {
       "output_type": "stream",
       "stream": "stdout",
       "text": [
        "\n",
        "\u6b63\u5728\u8655\u7406C09601314(256/341)"
       ]
      },
      {
       "output_type": "stream",
       "stream": "stdout",
       "text": [
        "\n",
        "\u6b63\u5728\u8655\u7406C09503681(257/341)"
       ]
      },
      {
       "output_type": "stream",
       "stream": "stdout",
       "text": [
        "\n",
        "\u6b63\u5728\u8655\u7406C09600097(258/341)"
       ]
      },
      {
       "output_type": "stream",
       "stream": "stdout",
       "text": [
        "\n",
        "\u6b63\u5728\u8655\u7406C09503722(259/341)"
       ]
      },
      {
       "output_type": "stream",
       "stream": "stdout",
       "text": [
        "\n",
        "\u6b63\u5728\u8655\u7406C09600246(260/341)"
       ]
      },
      {
       "output_type": "stream",
       "stream": "stdout",
       "text": [
        "\n",
        "\u6b63\u5728\u8655\u7406C09600182(261/341)"
       ]
      },
      {
       "output_type": "stream",
       "stream": "stdout",
       "text": [
        "\n",
        "\u6b63\u5728\u8655\u7406C09600291(262/341)"
       ]
      },
      {
       "output_type": "stream",
       "stream": "stdout",
       "text": [
        "\n",
        "\u6b63\u5728\u8655\u7406C09502644(263/341)"
       ]
      },
      {
       "output_type": "stream",
       "stream": "stdout",
       "text": [
        "\n",
        "\u6b63\u5728\u8655\u7406C09503045(264/341)"
       ]
      },
      {
       "output_type": "stream",
       "stream": "stdout",
       "text": [
        "\n",
        "\u6b63\u5728\u8655\u7406C09502390(265/341)"
       ]
      },
      {
       "output_type": "stream",
       "stream": "stdout",
       "text": [
        "\n",
        "\u6b63\u5728\u8655\u7406C09503630(266/341)"
       ]
      },
      {
       "output_type": "stream",
       "stream": "stdout",
       "text": [
        "\n",
        "\u6b63\u5728\u8655\u7406C09502195(267/341)"
       ]
      },
      {
       "output_type": "stream",
       "stream": "stdout",
       "text": [
        "\n",
        "\u6b63\u5728\u8655\u7406C09503444(268/341)"
       ]
      },
      {
       "output_type": "stream",
       "stream": "stdout",
       "text": [
        "\n",
        "\u6b63\u5728\u8655\u7406C09503242(269/341)"
       ]
      },
      {
       "output_type": "stream",
       "stream": "stdout",
       "text": [
        "\n",
        "\u6b63\u5728\u8655\u7406C09502464(270/341)"
       ]
      },
      {
       "output_type": "stream",
       "stream": "stdout",
       "text": [
        "\n",
        "\u6b63\u5728\u8655\u7406C09501827(271/341)"
       ]
      },
      {
       "output_type": "stream",
       "stream": "stdout",
       "text": [
        "\n",
        "\u6b63\u5728\u8655\u7406C09502071(272/341)"
       ]
      },
      {
       "output_type": "stream",
       "stream": "stdout",
       "text": [
        "\n",
        "\u6b63\u5728\u8655\u7406C09502700(273/341)"
       ]
      },
      {
       "output_type": "stream",
       "stream": "stdout",
       "text": [
        "\n",
        "\u6b63\u5728\u8655\u7406C09502275(274/341)"
       ]
      },
      {
       "output_type": "stream",
       "stream": "stdout",
       "text": [
        "\n",
        "\u6b63\u5728\u8655\u7406C09502701(275/341)"
       ]
      },
      {
       "output_type": "stream",
       "stream": "stdout",
       "text": [
        "\n",
        "\u6b63\u5728\u8655\u7406C09502239(276/341)"
       ]
      },
      {
       "output_type": "stream",
       "stream": "stdout",
       "text": [
        "\n",
        "\u6b63\u5728\u8655\u7406C09501571(277/341)"
       ]
      },
      {
       "output_type": "stream",
       "stream": "stdout",
       "text": [
        "\n",
        "\u6b63\u5728\u8655\u7406C09502516(278/341)"
       ]
      },
      {
       "output_type": "stream",
       "stream": "stdout",
       "text": [
        "\n",
        "\u6b63\u5728\u8655\u7406C09502262(279/341)"
       ]
      },
      {
       "output_type": "stream",
       "stream": "stdout",
       "text": [
        "\n",
        "\u6b63\u5728\u8655\u7406C09502238(280/341)"
       ]
      },
      {
       "output_type": "stream",
       "stream": "stdout",
       "text": [
        "\n",
        "\u6b63\u5728\u8655\u7406C09501753(281/341)"
       ]
      },
      {
       "output_type": "stream",
       "stream": "stdout",
       "text": [
        "\n",
        "\u6b63\u5728\u8655\u7406C09500937(282/341)"
       ]
      },
      {
       "output_type": "stream",
       "stream": "stdout",
       "text": [
        "\n",
        "\u6b63\u5728\u8655\u7406C09500118(283/341)"
       ]
      },
      {
       "output_type": "stream",
       "stream": "stdout",
       "text": [
        "\n",
        "\u6b63\u5728\u8655\u7406C09500546(284/341)"
       ]
      },
      {
       "output_type": "stream",
       "stream": "stdout",
       "text": [
        "\n",
        "\u6b63\u5728\u8655\u7406C09500519(285/341)"
       ]
      },
      {
       "output_type": "stream",
       "stream": "stdout",
       "text": [
        "\n",
        "\u6b63\u5728\u8655\u7406C09500345(286/341)"
       ]
      },
      {
       "output_type": "stream",
       "stream": "stdout",
       "text": [
        "\n",
        "\u6b63\u5728\u8655\u7406C09500112(287/341)"
       ]
      },
      {
       "output_type": "stream",
       "stream": "stdout",
       "text": [
        "\n",
        "\u6b63\u5728\u8655\u7406C09405019(288/341)"
       ]
      },
      {
       "output_type": "stream",
       "stream": "stdout",
       "text": [
        "\n",
        "\u6b63\u5728\u8655\u7406C09403240(289/341)"
       ]
      },
      {
       "output_type": "stream",
       "stream": "stdout",
       "text": [
        "\n",
        "\u6b63\u5728\u8655\u7406C09404886(290/341)"
       ]
      },
      {
       "output_type": "stream",
       "stream": "stdout",
       "text": [
        "\n",
        "\u6b63\u5728\u8655\u7406C09404583(291/341)"
       ]
      },
      {
       "output_type": "stream",
       "stream": "stdout",
       "text": [
        "\n",
        "\u6b63\u5728\u8655\u7406C09404483(292/341)"
       ]
      },
      {
       "output_type": "stream",
       "stream": "stdout",
       "text": [
        "\n",
        "\u6b63\u5728\u8655\u7406C09404111(293/341)"
       ]
      },
      {
       "output_type": "stream",
       "stream": "stdout",
       "text": [
        "\n",
        "\u6b63\u5728\u8655\u7406C09403867(294/341)"
       ]
      },
      {
       "output_type": "stream",
       "stream": "stdout",
       "text": [
        "\n",
        "\u6b63\u5728\u8655\u7406C09403371(295/341)"
       ]
      },
      {
       "output_type": "stream",
       "stream": "stdout",
       "text": [
        "\n",
        "\u6b63\u5728\u8655\u7406C09402747(296/341)"
       ]
      },
      {
       "output_type": "stream",
       "stream": "stdout",
       "text": [
        "\n",
        "\u6b63\u5728\u8655\u7406C09402659(297/341)"
       ]
      },
      {
       "output_type": "stream",
       "stream": "stdout",
       "text": [
        "\n",
        "\u6b63\u5728\u8655\u7406C09404062(298/341)"
       ]
      },
      {
       "output_type": "stream",
       "stream": "stdout",
       "text": [
        "\n",
        "\u6b63\u5728\u8655\u7406C09403891(299/341)"
       ]
      },
      {
       "output_type": "stream",
       "stream": "stdout",
       "text": [
        "\n",
        "\u6b63\u5728\u8655\u7406C09403870(300/341)"
       ]
      },
      {
       "output_type": "stream",
       "stream": "stdout",
       "text": [
        "\n",
        "\u6b63\u5728\u8655\u7406C09403888(301/341)"
       ]
      },
      {
       "output_type": "stream",
       "stream": "stdout",
       "text": [
        "\n",
        "\u6b63\u5728\u8655\u7406C09402369(302/341)"
       ]
      },
      {
       "output_type": "stream",
       "stream": "stdout",
       "text": [
        "\n",
        "\u6b63\u5728\u8655\u7406C09402967(303/341)"
       ]
      },
      {
       "output_type": "stream",
       "stream": "stdout",
       "text": [
        "\n",
        "\u6b63\u5728\u8655\u7406C09403424(304/341)"
       ]
      },
      {
       "output_type": "stream",
       "stream": "stdout",
       "text": [
        "\n",
        "\u6b63\u5728\u8655\u7406C09403356(305/341)"
       ]
      },
      {
       "output_type": "stream",
       "stream": "stdout",
       "text": [
        "\n",
        "\u6b63\u5728\u8655\u7406C09403450(306/341)"
       ]
      },
      {
       "output_type": "stream",
       "stream": "stdout",
       "text": [
        "\n",
        "\u6b63\u5728\u8655\u7406C09402612(307/341)"
       ]
      },
      {
       "output_type": "stream",
       "stream": "stdout",
       "text": [
        "\n",
        "\u6b63\u5728\u8655\u7406C09401410(308/341)"
       ]
      },
      {
       "output_type": "stream",
       "stream": "stdout",
       "text": [
        "\n",
        "\u6b63\u5728\u8655\u7406C09402086(309/341)"
       ]
      },
      {
       "output_type": "stream",
       "stream": "stdout",
       "text": [
        "\n",
        "\u6b63\u5728\u8655\u7406C09305627(310/341)"
       ]
      },
      {
       "output_type": "stream",
       "stream": "stdout",
       "text": [
        "\n",
        "\u6b63\u5728\u8655\u7406C09304484(311/341)"
       ]
      },
      {
       "output_type": "stream",
       "stream": "stdout",
       "text": [
        "\n",
        "\u6b63\u5728\u8655\u7406C09400375(312/341)"
       ]
      },
      {
       "output_type": "stream",
       "stream": "stdout",
       "text": [
        "\n",
        "\u6b63\u5728\u8655\u7406C09400103(313/341)"
       ]
      },
      {
       "output_type": "stream",
       "stream": "stdout",
       "text": [
        "\n",
        "\u6b63\u5728\u8655\u7406C09300003(314/341)"
       ]
      },
      {
       "output_type": "stream",
       "stream": "stdout",
       "text": [
        "\n",
        "\u6b63\u5728\u8655\u7406C09303639(315/341)"
       ]
      },
      {
       "output_type": "stream",
       "stream": "stdout",
       "text": [
        "\n",
        "\u6b63\u5728\u8655\u7406C09304949(316/341)"
       ]
      },
      {
       "output_type": "stream",
       "stream": "stdout",
       "text": [
        "\n",
        "\u6b63\u5728\u8655\u7406C09304133(317/341)"
       ]
      },
      {
       "output_type": "stream",
       "stream": "stdout",
       "text": [
        "\n",
        "\u6b63\u5728\u8655\u7406C09302109(318/341)"
       ]
      },
      {
       "output_type": "stream",
       "stream": "stdout",
       "text": [
        "\n",
        "\u6b63\u5728\u8655\u7406C09303217(319/341)"
       ]
      },
      {
       "output_type": "stream",
       "stream": "stdout",
       "text": [
        "\n",
        "\u6b63\u5728\u8655\u7406C09302773(320/341)"
       ]
      },
      {
       "output_type": "stream",
       "stream": "stdout",
       "text": [
        "\n",
        "\u6b63\u5728\u8655\u7406C09302354(321/341)"
       ]
      },
      {
       "output_type": "stream",
       "stream": "stdout",
       "text": [
        "\n",
        "\u6b63\u5728\u8655\u7406C09301270(322/341)"
       ]
      },
      {
       "output_type": "stream",
       "stream": "stdout",
       "text": [
        "\n",
        "\u6b63\u5728\u8655\u7406C09301248(323/341)"
       ]
      },
      {
       "output_type": "stream",
       "stream": "stdout",
       "text": [
        "\n",
        "\u6b63\u5728\u8655\u7406C09300513(324/341)"
       ]
      },
      {
       "output_type": "stream",
       "stream": "stdout",
       "text": [
        "\n",
        "\u6b63\u5728\u8655\u7406C09204309(325/341)"
       ]
      },
      {
       "output_type": "stream",
       "stream": "stdout",
       "text": [
        "\n",
        "\u6b63\u5728\u8655\u7406C09204122(326/341)"
       ]
      },
      {
       "output_type": "stream",
       "stream": "stdout",
       "text": [
        "\n",
        "\u6b63\u5728\u8655\u7406C09203127(327/341)"
       ]
      },
      {
       "output_type": "stream",
       "stream": "stdout",
       "text": [
        "\n",
        "\u6b63\u5728\u8655\u7406C09105790(328/341)"
       ]
      },
      {
       "output_type": "stream",
       "stream": "stdout",
       "text": [
        "\n",
        "\u6b63\u5728\u8655\u7406C09104928(329/341)"
       ]
      },
      {
       "output_type": "stream",
       "stream": "stdout",
       "text": [
        "\n",
        "\u6b63\u5728\u8655\u7406C09104743(330/341)"
       ]
      },
      {
       "output_type": "stream",
       "stream": "stdout",
       "text": [
        "\n",
        "\u6b63\u5728\u8655\u7406C09102991(331/341)"
       ]
      },
      {
       "output_type": "stream",
       "stream": "stdout",
       "text": [
        "\n",
        "\u6b63\u5728\u8655\u7406C09102714(332/341)"
       ]
      },
      {
       "output_type": "stream",
       "stream": "stdout",
       "text": [
        "\n",
        "\u6b63\u5728\u8655\u7406C09102150(333/341)"
       ]
      },
      {
       "output_type": "stream",
       "stream": "stdout",
       "text": [
        "\n",
        "\u6b63\u5728\u8655\u7406C09101093(334/341)"
       ]
      },
      {
       "output_type": "stream",
       "stream": "stdout",
       "text": [
        "\n",
        "\u6b63\u5728\u8655\u7406C09100098(335/341)"
       ]
      },
      {
       "output_type": "stream",
       "stream": "stdout",
       "text": [
        "\n",
        "\u6b63\u5728\u8655\u7406C09006788(336/341)"
       ]
      },
      {
       "output_type": "stream",
       "stream": "stdout",
       "text": [
        "\n",
        "\u6b63\u5728\u8655\u7406C09004879(337/341)"
       ]
      },
      {
       "output_type": "stream",
       "stream": "stdout",
       "text": [
        "\n",
        "\u6b63\u5728\u8655\u7406C09004137(338/341)"
       ]
      },
      {
       "output_type": "stream",
       "stream": "stdout",
       "text": [
        "\n",
        "\u6b63\u5728\u8655\u7406C09005839(339/341)"
       ]
      },
      {
       "output_type": "stream",
       "stream": "stdout",
       "text": [
        "\n",
        "\u6b63\u5728\u8655\u7406C09003034(340/341)"
       ]
      },
      {
       "output_type": "stream",
       "stream": "stdout",
       "text": [
        "\n"
       ]
      }
     ],
     "prompt_number": 84
    },
    {
     "cell_type": "code",
     "collapsed": false,
     "input": [],
     "language": "python",
     "metadata": {},
     "outputs": []
    }
   ],
   "metadata": {}
  }
 ]
}